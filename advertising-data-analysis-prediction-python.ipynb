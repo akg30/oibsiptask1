{
 "cells": [
  {
   "cell_type": "markdown",
   "id": "7e6b434b",
   "metadata": {
    "_cell_guid": "b1076dfc-b9ad-4769-8c92-a6c4dae69d19",
    "_uuid": "8f2839f25d086af736a60e9eeb907d3b93b6e0e5",
    "papermill": {
     "duration": 0.008183,
     "end_time": "2023-07-21T10:58:00.458731",
     "exception": false,
     "start_time": "2023-07-21T10:58:00.450548",
     "status": "completed"
    },
    "tags": []
   },
   "source": [
    "# Advertising Data Analysis And Prediction With Python\n",
    "## Created And Done By \"Anubhav Kumar Gupta\""
   ]
  },
  {
   "cell_type": "code",
   "execution_count": 1,
   "id": "69154c0b",
   "metadata": {
    "execution": {
     "iopub.execute_input": "2023-07-21T10:58:00.475657Z",
     "iopub.status.busy": "2023-07-21T10:58:00.475238Z",
     "iopub.status.idle": "2023-07-21T10:58:00.489255Z",
     "shell.execute_reply": "2023-07-21T10:58:00.487943Z"
    },
    "papermill": {
     "duration": 0.024672,
     "end_time": "2023-07-21T10:58:00.491119",
     "exception": false,
     "start_time": "2023-07-21T10:58:00.466447",
     "status": "completed"
    },
    "tags": []
   },
   "outputs": [
    {
     "data": {
      "text/html": [
       "<img src=\"https://previews.123rf.com/images/robuart/robuart1902/robuart190202323/117228198-media-advertisement-vector-television-and-radio-with-antenna-laptop-screen-advertisement-product.jpg\" width=\"500\" height=\"500\"/>"
      ],
      "text/plain": [
       "<IPython.core.display.Image object>"
      ]
     },
     "execution_count": 1,
     "metadata": {},
     "output_type": "execute_result"
    }
   ],
   "source": [
    "import IPython.display as dsp\n",
    "dsp.Image(url='https://previews.123rf.com/images/robuart/robuart1902/robuart190202323/117228198-media-advertisement-vector-television-and-radio-with-antenna-laptop-screen-advertisement-product.jpg',width=500,height=500)"
   ]
  },
  {
   "cell_type": "code",
   "execution_count": 2,
   "id": "8dcc4886",
   "metadata": {
    "execution": {
     "iopub.execute_input": "2023-07-21T10:58:00.508532Z",
     "iopub.status.busy": "2023-07-21T10:58:00.507930Z",
     "iopub.status.idle": "2023-07-21T10:58:02.496655Z",
     "shell.execute_reply": "2023-07-21T10:58:02.495608Z"
    },
    "papermill": {
     "duration": 2.000308,
     "end_time": "2023-07-21T10:58:02.499149",
     "exception": false,
     "start_time": "2023-07-21T10:58:00.498841",
     "status": "completed"
    },
    "tags": []
   },
   "outputs": [
    {
     "name": "stderr",
     "output_type": "stream",
     "text": [
      "/opt/conda/lib/python3.10/site-packages/scipy/__init__.py:146: UserWarning: A NumPy version >=1.16.5 and <1.23.0 is required for this version of SciPy (detected version 1.23.5\n",
      "  warnings.warn(f\"A NumPy version >={np_minversion} and <{np_maxversion}\"\n"
     ]
    }
   ],
   "source": [
    "import numpy as np\n",
    "import pandas as pd\n",
    "import seaborn as sns\n",
    "import plotly.express as px"
   ]
  },
  {
   "cell_type": "code",
   "execution_count": 3,
   "id": "29fe97be",
   "metadata": {
    "execution": {
     "iopub.execute_input": "2023-07-21T10:58:02.517539Z",
     "iopub.status.busy": "2023-07-21T10:58:02.516011Z",
     "iopub.status.idle": "2023-07-21T10:58:02.541252Z",
     "shell.execute_reply": "2023-07-21T10:58:02.540028Z"
    },
    "papermill": {
     "duration": 0.036491,
     "end_time": "2023-07-21T10:58:02.543575",
     "exception": false,
     "start_time": "2023-07-21T10:58:02.507084",
     "status": "completed"
    },
    "tags": []
   },
   "outputs": [],
   "source": [
    "df=pd.read_csv('/kaggle/input/advertisingcsv/Advertising.csv')"
   ]
  },
  {
   "cell_type": "code",
   "execution_count": 4,
   "id": "1df18e7c",
   "metadata": {
    "execution": {
     "iopub.execute_input": "2023-07-21T10:58:02.561777Z",
     "iopub.status.busy": "2023-07-21T10:58:02.561432Z",
     "iopub.status.idle": "2023-07-21T10:58:02.582555Z",
     "shell.execute_reply": "2023-07-21T10:58:02.581616Z"
    },
    "papermill": {
     "duration": 0.031836,
     "end_time": "2023-07-21T10:58:02.584453",
     "exception": false,
     "start_time": "2023-07-21T10:58:02.552617",
     "status": "completed"
    },
    "tags": []
   },
   "outputs": [
    {
     "data": {
      "text/html": [
       "<div>\n",
       "<style scoped>\n",
       "    .dataframe tbody tr th:only-of-type {\n",
       "        vertical-align: middle;\n",
       "    }\n",
       "\n",
       "    .dataframe tbody tr th {\n",
       "        vertical-align: top;\n",
       "    }\n",
       "\n",
       "    .dataframe thead th {\n",
       "        text-align: right;\n",
       "    }\n",
       "</style>\n",
       "<table border=\"1\" class=\"dataframe\">\n",
       "  <thead>\n",
       "    <tr style=\"text-align: right;\">\n",
       "      <th></th>\n",
       "      <th>Unnamed: 0</th>\n",
       "      <th>TV</th>\n",
       "      <th>Radio</th>\n",
       "      <th>Newspaper</th>\n",
       "      <th>Sales</th>\n",
       "    </tr>\n",
       "  </thead>\n",
       "  <tbody>\n",
       "    <tr>\n",
       "      <th>0</th>\n",
       "      <td>1</td>\n",
       "      <td>230.1</td>\n",
       "      <td>37.8</td>\n",
       "      <td>69.2</td>\n",
       "      <td>22.1</td>\n",
       "    </tr>\n",
       "    <tr>\n",
       "      <th>1</th>\n",
       "      <td>2</td>\n",
       "      <td>44.5</td>\n",
       "      <td>39.3</td>\n",
       "      <td>45.1</td>\n",
       "      <td>10.4</td>\n",
       "    </tr>\n",
       "    <tr>\n",
       "      <th>2</th>\n",
       "      <td>3</td>\n",
       "      <td>17.2</td>\n",
       "      <td>45.9</td>\n",
       "      <td>69.3</td>\n",
       "      <td>9.3</td>\n",
       "    </tr>\n",
       "    <tr>\n",
       "      <th>3</th>\n",
       "      <td>4</td>\n",
       "      <td>151.5</td>\n",
       "      <td>41.3</td>\n",
       "      <td>58.5</td>\n",
       "      <td>18.5</td>\n",
       "    </tr>\n",
       "    <tr>\n",
       "      <th>4</th>\n",
       "      <td>5</td>\n",
       "      <td>180.8</td>\n",
       "      <td>10.8</td>\n",
       "      <td>58.4</td>\n",
       "      <td>12.9</td>\n",
       "    </tr>\n",
       "  </tbody>\n",
       "</table>\n",
       "</div>"
      ],
      "text/plain": [
       "   Unnamed: 0     TV  Radio  Newspaper  Sales\n",
       "0           1  230.1   37.8       69.2   22.1\n",
       "1           2   44.5   39.3       45.1   10.4\n",
       "2           3   17.2   45.9       69.3    9.3\n",
       "3           4  151.5   41.3       58.5   18.5\n",
       "4           5  180.8   10.8       58.4   12.9"
      ]
     },
     "execution_count": 4,
     "metadata": {},
     "output_type": "execute_result"
    }
   ],
   "source": [
    "df.head()"
   ]
  },
  {
   "cell_type": "code",
   "execution_count": 5,
   "id": "3ca0bc1c",
   "metadata": {
    "execution": {
     "iopub.execute_input": "2023-07-21T10:58:02.602649Z",
     "iopub.status.busy": "2023-07-21T10:58:02.601518Z",
     "iopub.status.idle": "2023-07-21T10:58:02.615566Z",
     "shell.execute_reply": "2023-07-21T10:58:02.614279Z"
    },
    "papermill": {
     "duration": 0.025761,
     "end_time": "2023-07-21T10:58:02.618338",
     "exception": false,
     "start_time": "2023-07-21T10:58:02.592577",
     "status": "completed"
    },
    "tags": []
   },
   "outputs": [
    {
     "data": {
      "text/html": [
       "<div>\n",
       "<style scoped>\n",
       "    .dataframe tbody tr th:only-of-type {\n",
       "        vertical-align: middle;\n",
       "    }\n",
       "\n",
       "    .dataframe tbody tr th {\n",
       "        vertical-align: top;\n",
       "    }\n",
       "\n",
       "    .dataframe thead th {\n",
       "        text-align: right;\n",
       "    }\n",
       "</style>\n",
       "<table border=\"1\" class=\"dataframe\">\n",
       "  <thead>\n",
       "    <tr style=\"text-align: right;\">\n",
       "      <th></th>\n",
       "      <th>Unnamed: 0</th>\n",
       "      <th>TV</th>\n",
       "      <th>Radio</th>\n",
       "      <th>Newspaper</th>\n",
       "      <th>Sales</th>\n",
       "    </tr>\n",
       "  </thead>\n",
       "  <tbody>\n",
       "    <tr>\n",
       "      <th>195</th>\n",
       "      <td>196</td>\n",
       "      <td>38.2</td>\n",
       "      <td>3.7</td>\n",
       "      <td>13.8</td>\n",
       "      <td>7.6</td>\n",
       "    </tr>\n",
       "    <tr>\n",
       "      <th>196</th>\n",
       "      <td>197</td>\n",
       "      <td>94.2</td>\n",
       "      <td>4.9</td>\n",
       "      <td>8.1</td>\n",
       "      <td>9.7</td>\n",
       "    </tr>\n",
       "    <tr>\n",
       "      <th>197</th>\n",
       "      <td>198</td>\n",
       "      <td>177.0</td>\n",
       "      <td>9.3</td>\n",
       "      <td>6.4</td>\n",
       "      <td>12.8</td>\n",
       "    </tr>\n",
       "    <tr>\n",
       "      <th>198</th>\n",
       "      <td>199</td>\n",
       "      <td>283.6</td>\n",
       "      <td>42.0</td>\n",
       "      <td>66.2</td>\n",
       "      <td>25.5</td>\n",
       "    </tr>\n",
       "    <tr>\n",
       "      <th>199</th>\n",
       "      <td>200</td>\n",
       "      <td>232.1</td>\n",
       "      <td>8.6</td>\n",
       "      <td>8.7</td>\n",
       "      <td>13.4</td>\n",
       "    </tr>\n",
       "  </tbody>\n",
       "</table>\n",
       "</div>"
      ],
      "text/plain": [
       "     Unnamed: 0     TV  Radio  Newspaper  Sales\n",
       "195         196   38.2    3.7       13.8    7.6\n",
       "196         197   94.2    4.9        8.1    9.7\n",
       "197         198  177.0    9.3        6.4   12.8\n",
       "198         199  283.6   42.0       66.2   25.5\n",
       "199         200  232.1    8.6        8.7   13.4"
      ]
     },
     "execution_count": 5,
     "metadata": {},
     "output_type": "execute_result"
    }
   ],
   "source": [
    "df.tail()"
   ]
  },
  {
   "cell_type": "code",
   "execution_count": 6,
   "id": "937f25e2",
   "metadata": {
    "execution": {
     "iopub.execute_input": "2023-07-21T10:58:02.636445Z",
     "iopub.status.busy": "2023-07-21T10:58:02.636036Z",
     "iopub.status.idle": "2023-07-21T10:58:02.643285Z",
     "shell.execute_reply": "2023-07-21T10:58:02.642345Z"
    },
    "papermill": {
     "duration": 0.018434,
     "end_time": "2023-07-21T10:58:02.645170",
     "exception": false,
     "start_time": "2023-07-21T10:58:02.626736",
     "status": "completed"
    },
    "tags": []
   },
   "outputs": [
    {
     "data": {
      "text/plain": [
       "(200, 5)"
      ]
     },
     "execution_count": 6,
     "metadata": {},
     "output_type": "execute_result"
    }
   ],
   "source": [
    "df.shape"
   ]
  },
  {
   "cell_type": "code",
   "execution_count": 7,
   "id": "21d3e09f",
   "metadata": {
    "execution": {
     "iopub.execute_input": "2023-07-21T10:58:02.664187Z",
     "iopub.status.busy": "2023-07-21T10:58:02.663581Z",
     "iopub.status.idle": "2023-07-21T10:58:02.670542Z",
     "shell.execute_reply": "2023-07-21T10:58:02.669541Z"
    },
    "papermill": {
     "duration": 0.018426,
     "end_time": "2023-07-21T10:58:02.672161",
     "exception": false,
     "start_time": "2023-07-21T10:58:02.653735",
     "status": "completed"
    },
    "tags": []
   },
   "outputs": [
    {
     "data": {
      "text/plain": [
       "1000"
      ]
     },
     "execution_count": 7,
     "metadata": {},
     "output_type": "execute_result"
    }
   ],
   "source": [
    "df.size"
   ]
  },
  {
   "cell_type": "code",
   "execution_count": 8,
   "id": "c94f11f8",
   "metadata": {
    "execution": {
     "iopub.execute_input": "2023-07-21T10:58:02.690815Z",
     "iopub.status.busy": "2023-07-21T10:58:02.690258Z",
     "iopub.status.idle": "2023-07-21T10:58:02.714005Z",
     "shell.execute_reply": "2023-07-21T10:58:02.712141Z"
    },
    "papermill": {
     "duration": 0.035551,
     "end_time": "2023-07-21T10:58:02.716144",
     "exception": false,
     "start_time": "2023-07-21T10:58:02.680593",
     "status": "completed"
    },
    "tags": []
   },
   "outputs": [
    {
     "name": "stdout",
     "output_type": "stream",
     "text": [
      "<class 'pandas.core.frame.DataFrame'>\n",
      "RangeIndex: 200 entries, 0 to 199\n",
      "Data columns (total 5 columns):\n",
      " #   Column      Non-Null Count  Dtype  \n",
      "---  ------      --------------  -----  \n",
      " 0   Unnamed: 0  200 non-null    int64  \n",
      " 1   TV          200 non-null    float64\n",
      " 2   Radio       200 non-null    float64\n",
      " 3   Newspaper   200 non-null    float64\n",
      " 4   Sales       200 non-null    float64\n",
      "dtypes: float64(4), int64(1)\n",
      "memory usage: 7.9 KB\n"
     ]
    }
   ],
   "source": [
    "df.info()"
   ]
  },
  {
   "cell_type": "code",
   "execution_count": 9,
   "id": "e44de67b",
   "metadata": {
    "execution": {
     "iopub.execute_input": "2023-07-21T10:58:02.734873Z",
     "iopub.status.busy": "2023-07-21T10:58:02.734525Z",
     "iopub.status.idle": "2023-07-21T10:58:02.758130Z",
     "shell.execute_reply": "2023-07-21T10:58:02.757200Z"
    },
    "papermill": {
     "duration": 0.034918,
     "end_time": "2023-07-21T10:58:02.759815",
     "exception": false,
     "start_time": "2023-07-21T10:58:02.724897",
     "status": "completed"
    },
    "tags": []
   },
   "outputs": [
    {
     "data": {
      "text/html": [
       "<div>\n",
       "<style scoped>\n",
       "    .dataframe tbody tr th:only-of-type {\n",
       "        vertical-align: middle;\n",
       "    }\n",
       "\n",
       "    .dataframe tbody tr th {\n",
       "        vertical-align: top;\n",
       "    }\n",
       "\n",
       "    .dataframe thead th {\n",
       "        text-align: right;\n",
       "    }\n",
       "</style>\n",
       "<table border=\"1\" class=\"dataframe\">\n",
       "  <thead>\n",
       "    <tr style=\"text-align: right;\">\n",
       "      <th></th>\n",
       "      <th>Unnamed: 0</th>\n",
       "      <th>TV</th>\n",
       "      <th>Radio</th>\n",
       "      <th>Newspaper</th>\n",
       "      <th>Sales</th>\n",
       "    </tr>\n",
       "  </thead>\n",
       "  <tbody>\n",
       "    <tr>\n",
       "      <th>count</th>\n",
       "      <td>200.000000</td>\n",
       "      <td>200.000000</td>\n",
       "      <td>200.000000</td>\n",
       "      <td>200.000000</td>\n",
       "      <td>200.000000</td>\n",
       "    </tr>\n",
       "    <tr>\n",
       "      <th>mean</th>\n",
       "      <td>100.500000</td>\n",
       "      <td>147.042500</td>\n",
       "      <td>23.264000</td>\n",
       "      <td>30.554000</td>\n",
       "      <td>14.022500</td>\n",
       "    </tr>\n",
       "    <tr>\n",
       "      <th>std</th>\n",
       "      <td>57.879185</td>\n",
       "      <td>85.854236</td>\n",
       "      <td>14.846809</td>\n",
       "      <td>21.778621</td>\n",
       "      <td>5.217457</td>\n",
       "    </tr>\n",
       "    <tr>\n",
       "      <th>min</th>\n",
       "      <td>1.000000</td>\n",
       "      <td>0.700000</td>\n",
       "      <td>0.000000</td>\n",
       "      <td>0.300000</td>\n",
       "      <td>1.600000</td>\n",
       "    </tr>\n",
       "    <tr>\n",
       "      <th>25%</th>\n",
       "      <td>50.750000</td>\n",
       "      <td>74.375000</td>\n",
       "      <td>9.975000</td>\n",
       "      <td>12.750000</td>\n",
       "      <td>10.375000</td>\n",
       "    </tr>\n",
       "    <tr>\n",
       "      <th>50%</th>\n",
       "      <td>100.500000</td>\n",
       "      <td>149.750000</td>\n",
       "      <td>22.900000</td>\n",
       "      <td>25.750000</td>\n",
       "      <td>12.900000</td>\n",
       "    </tr>\n",
       "    <tr>\n",
       "      <th>75%</th>\n",
       "      <td>150.250000</td>\n",
       "      <td>218.825000</td>\n",
       "      <td>36.525000</td>\n",
       "      <td>45.100000</td>\n",
       "      <td>17.400000</td>\n",
       "    </tr>\n",
       "    <tr>\n",
       "      <th>max</th>\n",
       "      <td>200.000000</td>\n",
       "      <td>296.400000</td>\n",
       "      <td>49.600000</td>\n",
       "      <td>114.000000</td>\n",
       "      <td>27.000000</td>\n",
       "    </tr>\n",
       "  </tbody>\n",
       "</table>\n",
       "</div>"
      ],
      "text/plain": [
       "       Unnamed: 0          TV       Radio   Newspaper       Sales\n",
       "count  200.000000  200.000000  200.000000  200.000000  200.000000\n",
       "mean   100.500000  147.042500   23.264000   30.554000   14.022500\n",
       "std     57.879185   85.854236   14.846809   21.778621    5.217457\n",
       "min      1.000000    0.700000    0.000000    0.300000    1.600000\n",
       "25%     50.750000   74.375000    9.975000   12.750000   10.375000\n",
       "50%    100.500000  149.750000   22.900000   25.750000   12.900000\n",
       "75%    150.250000  218.825000   36.525000   45.100000   17.400000\n",
       "max    200.000000  296.400000   49.600000  114.000000   27.000000"
      ]
     },
     "execution_count": 9,
     "metadata": {},
     "output_type": "execute_result"
    }
   ],
   "source": [
    "df.describe()"
   ]
  },
  {
   "cell_type": "code",
   "execution_count": 10,
   "id": "72638ea8",
   "metadata": {
    "execution": {
     "iopub.execute_input": "2023-07-21T10:58:02.778789Z",
     "iopub.status.busy": "2023-07-21T10:58:02.777804Z",
     "iopub.status.idle": "2023-07-21T10:58:02.785538Z",
     "shell.execute_reply": "2023-07-21T10:58:02.784834Z"
    },
    "papermill": {
     "duration": 0.018739,
     "end_time": "2023-07-21T10:58:02.787197",
     "exception": false,
     "start_time": "2023-07-21T10:58:02.768458",
     "status": "completed"
    },
    "tags": []
   },
   "outputs": [
    {
     "data": {
      "text/plain": [
       "Unnamed: 0    0\n",
       "TV            0\n",
       "Radio         0\n",
       "Newspaper     0\n",
       "Sales         0\n",
       "dtype: int64"
      ]
     },
     "execution_count": 10,
     "metadata": {},
     "output_type": "execute_result"
    }
   ],
   "source": [
    "df.isna().sum()"
   ]
  },
  {
   "cell_type": "code",
   "execution_count": 11,
   "id": "f87f14ab",
   "metadata": {
    "execution": {
     "iopub.execute_input": "2023-07-21T10:58:02.806090Z",
     "iopub.status.busy": "2023-07-21T10:58:02.805429Z",
     "iopub.status.idle": "2023-07-21T10:58:02.818909Z",
     "shell.execute_reply": "2023-07-21T10:58:02.817809Z"
    },
    "papermill": {
     "duration": 0.025114,
     "end_time": "2023-07-21T10:58:02.820872",
     "exception": false,
     "start_time": "2023-07-21T10:58:02.795758",
     "status": "completed"
    },
    "tags": []
   },
   "outputs": [
    {
     "data": {
      "text/html": [
       "<div>\n",
       "<style scoped>\n",
       "    .dataframe tbody tr th:only-of-type {\n",
       "        vertical-align: middle;\n",
       "    }\n",
       "\n",
       "    .dataframe tbody tr th {\n",
       "        vertical-align: top;\n",
       "    }\n",
       "\n",
       "    .dataframe thead th {\n",
       "        text-align: right;\n",
       "    }\n",
       "</style>\n",
       "<table border=\"1\" class=\"dataframe\">\n",
       "  <thead>\n",
       "    <tr style=\"text-align: right;\">\n",
       "      <th></th>\n",
       "      <th>Unnamed: 0</th>\n",
       "      <th>TV</th>\n",
       "      <th>Radio</th>\n",
       "      <th>Newspaper</th>\n",
       "      <th>Sales</th>\n",
       "    </tr>\n",
       "  </thead>\n",
       "  <tbody>\n",
       "  </tbody>\n",
       "</table>\n",
       "</div>"
      ],
      "text/plain": [
       "Empty DataFrame\n",
       "Columns: [Unnamed: 0, TV, Radio, Newspaper, Sales]\n",
       "Index: []"
      ]
     },
     "execution_count": 11,
     "metadata": {},
     "output_type": "execute_result"
    }
   ],
   "source": [
    "df[df.duplicated()]"
   ]
  },
  {
   "cell_type": "code",
   "execution_count": 12,
   "id": "e91cc8e4",
   "metadata": {
    "execution": {
     "iopub.execute_input": "2023-07-21T10:58:02.839732Z",
     "iopub.status.busy": "2023-07-21T10:58:02.839133Z",
     "iopub.status.idle": "2023-07-21T10:58:02.845309Z",
     "shell.execute_reply": "2023-07-21T10:58:02.844569Z"
    },
    "papermill": {
     "duration": 0.017292,
     "end_time": "2023-07-21T10:58:02.846836",
     "exception": false,
     "start_time": "2023-07-21T10:58:02.829544",
     "status": "completed"
    },
    "tags": []
   },
   "outputs": [
    {
     "data": {
      "text/plain": [
       "0"
      ]
     },
     "execution_count": 12,
     "metadata": {},
     "output_type": "execute_result"
    }
   ],
   "source": [
    "df.duplicated().sum()"
   ]
  },
  {
   "cell_type": "code",
   "execution_count": 13,
   "id": "b7671e7f",
   "metadata": {
    "execution": {
     "iopub.execute_input": "2023-07-21T10:58:02.865526Z",
     "iopub.status.busy": "2023-07-21T10:58:02.865192Z",
     "iopub.status.idle": "2023-07-21T10:58:02.872023Z",
     "shell.execute_reply": "2023-07-21T10:58:02.870567Z"
    },
    "papermill": {
     "duration": 0.018206,
     "end_time": "2023-07-21T10:58:02.873770",
     "exception": false,
     "start_time": "2023-07-21T10:58:02.855564",
     "status": "completed"
    },
    "tags": []
   },
   "outputs": [
    {
     "data": {
      "text/plain": [
       "Index(['Unnamed: 0', 'TV', 'Radio', 'Newspaper', 'Sales'], dtype='object')"
      ]
     },
     "execution_count": 13,
     "metadata": {},
     "output_type": "execute_result"
    }
   ],
   "source": [
    "df.columns"
   ]
  },
  {
   "cell_type": "code",
   "execution_count": 14,
   "id": "2d63aed1",
   "metadata": {
    "execution": {
     "iopub.execute_input": "2023-07-21T10:58:02.892653Z",
     "iopub.status.busy": "2023-07-21T10:58:02.892299Z",
     "iopub.status.idle": "2023-07-21T10:58:02.897505Z",
     "shell.execute_reply": "2023-07-21T10:58:02.896472Z"
    },
    "papermill": {
     "duration": 0.016565,
     "end_time": "2023-07-21T10:58:02.898979",
     "exception": false,
     "start_time": "2023-07-21T10:58:02.882414",
     "status": "completed"
    },
    "tags": []
   },
   "outputs": [],
   "source": [
    "df.drop(['Unnamed: 0'],axis=1,inplace=True)"
   ]
  },
  {
   "cell_type": "code",
   "execution_count": 15,
   "id": "afb73841",
   "metadata": {
    "execution": {
     "iopub.execute_input": "2023-07-21T10:58:02.918157Z",
     "iopub.status.busy": "2023-07-21T10:58:02.917510Z",
     "iopub.status.idle": "2023-07-21T10:58:02.927793Z",
     "shell.execute_reply": "2023-07-21T10:58:02.927177Z"
    },
    "papermill": {
     "duration": 0.022197,
     "end_time": "2023-07-21T10:58:02.929946",
     "exception": false,
     "start_time": "2023-07-21T10:58:02.907749",
     "status": "completed"
    },
    "tags": []
   },
   "outputs": [
    {
     "data": {
      "text/html": [
       "<div>\n",
       "<style scoped>\n",
       "    .dataframe tbody tr th:only-of-type {\n",
       "        vertical-align: middle;\n",
       "    }\n",
       "\n",
       "    .dataframe tbody tr th {\n",
       "        vertical-align: top;\n",
       "    }\n",
       "\n",
       "    .dataframe thead th {\n",
       "        text-align: right;\n",
       "    }\n",
       "</style>\n",
       "<table border=\"1\" class=\"dataframe\">\n",
       "  <thead>\n",
       "    <tr style=\"text-align: right;\">\n",
       "      <th></th>\n",
       "      <th>TV</th>\n",
       "      <th>Radio</th>\n",
       "      <th>Newspaper</th>\n",
       "      <th>Sales</th>\n",
       "    </tr>\n",
       "  </thead>\n",
       "  <tbody>\n",
       "    <tr>\n",
       "      <th>0</th>\n",
       "      <td>230.1</td>\n",
       "      <td>37.8</td>\n",
       "      <td>69.2</td>\n",
       "      <td>22.1</td>\n",
       "    </tr>\n",
       "    <tr>\n",
       "      <th>1</th>\n",
       "      <td>44.5</td>\n",
       "      <td>39.3</td>\n",
       "      <td>45.1</td>\n",
       "      <td>10.4</td>\n",
       "    </tr>\n",
       "    <tr>\n",
       "      <th>2</th>\n",
       "      <td>17.2</td>\n",
       "      <td>45.9</td>\n",
       "      <td>69.3</td>\n",
       "      <td>9.3</td>\n",
       "    </tr>\n",
       "    <tr>\n",
       "      <th>3</th>\n",
       "      <td>151.5</td>\n",
       "      <td>41.3</td>\n",
       "      <td>58.5</td>\n",
       "      <td>18.5</td>\n",
       "    </tr>\n",
       "    <tr>\n",
       "      <th>4</th>\n",
       "      <td>180.8</td>\n",
       "      <td>10.8</td>\n",
       "      <td>58.4</td>\n",
       "      <td>12.9</td>\n",
       "    </tr>\n",
       "  </tbody>\n",
       "</table>\n",
       "</div>"
      ],
      "text/plain": [
       "      TV  Radio  Newspaper  Sales\n",
       "0  230.1   37.8       69.2   22.1\n",
       "1   44.5   39.3       45.1   10.4\n",
       "2   17.2   45.9       69.3    9.3\n",
       "3  151.5   41.3       58.5   18.5\n",
       "4  180.8   10.8       58.4   12.9"
      ]
     },
     "execution_count": 15,
     "metadata": {},
     "output_type": "execute_result"
    }
   ],
   "source": [
    "df.head()"
   ]
  },
  {
   "cell_type": "code",
   "execution_count": 16,
   "id": "eec115aa",
   "metadata": {
    "execution": {
     "iopub.execute_input": "2023-07-21T10:58:02.950710Z",
     "iopub.status.busy": "2023-07-21T10:58:02.950048Z",
     "iopub.status.idle": "2023-07-21T10:58:04.431407Z",
     "shell.execute_reply": "2023-07-21T10:58:04.430217Z"
    },
    "papermill": {
     "duration": 1.493921,
     "end_time": "2023-07-21T10:58:04.433430",
     "exception": false,
     "start_time": "2023-07-21T10:58:02.939509",
     "status": "completed"
    },
    "tags": []
   },
   "outputs": [
    {
     "data": {
      "text/html": [
       "        <script type=\"text/javascript\">\n",
       "        window.PlotlyConfig = {MathJaxConfig: 'local'};\n",
       "        if (window.MathJax && window.MathJax.Hub && window.MathJax.Hub.Config) {window.MathJax.Hub.Config({SVG: {font: \"STIX-Web\"}});}\n",
       "        if (typeof require !== 'undefined') {\n",
       "        require.undef(\"plotly\");\n",
       "        requirejs.config({\n",
       "            paths: {\n",
       "                'plotly': ['https://cdn.plot.ly/plotly-2.24.1.min']\n",
       "            }\n",
       "        });\n",
       "        require(['plotly'], function(Plotly) {\n",
       "            window._Plotly = Plotly;\n",
       "        });\n",
       "        }\n",
       "        </script>\n",
       "        "
      ]
     },
     "metadata": {},
     "output_type": "display_data"
    },
    {
     "data": {
      "text/html": [
       "<div>                            <div id=\"3d043cef-6c6a-4e5e-a244-98cb41f4bc6b\" class=\"plotly-graph-div\" style=\"height:500px; width:800px;\"></div>            <script type=\"text/javascript\">                require([\"plotly\"], function(Plotly) {                    window.PLOTLYENV=window.PLOTLYENV || {};                                    if (document.getElementById(\"3d043cef-6c6a-4e5e-a244-98cb41f4bc6b\")) {                    Plotly.newPlot(                        \"3d043cef-6c6a-4e5e-a244-98cb41f4bc6b\",                        [{\"hovertemplate\":\"TV=%{x}\\u003cbr\\u003eSales=%{y}\\u003cextra\\u003e\\u003c\\u002fextra\\u003e\",\"legendgroup\":\"\",\"marker\":{\"color\":\"#636efa\",\"symbol\":\"circle\"},\"mode\":\"markers\",\"name\":\"\",\"orientation\":\"v\",\"showlegend\":false,\"x\":[230.1,44.5,17.2,151.5,180.8,8.7,57.5,120.2,8.6,199.8,66.1,214.7,23.8,97.5,204.1,195.4,67.8,281.4,69.2,147.3,218.4,237.4,13.2,228.3,62.3,262.9,142.9,240.1,248.8,70.6,292.9,112.9,97.2,265.6,95.7,290.7,266.9,74.7,43.1,228.0,202.5,177.0,293.6,206.9,25.1,175.1,89.7,239.9,227.2,66.9,199.8,100.4,216.4,182.6,262.7,198.9,7.3,136.2,210.8,210.7,53.5,261.3,239.3,102.7,131.1,69.0,31.5,139.3,237.4,216.8,199.1,109.8,26.8,129.4,213.4,16.9,27.5,120.5,5.4,116.0,76.4,239.8,75.3,68.4,213.5,193.2,76.3,110.7,88.3,109.8,134.3,28.6,217.7,250.9,107.4,163.3,197.6,184.9,289.7,135.2,222.4,296.4,280.2,187.9,238.2,137.9,25.0,90.4,13.1,255.4,225.8,241.7,175.7,209.6,78.2,75.1,139.2,76.4,125.7,19.4,141.3,18.8,224.0,123.1,229.5,87.2,7.8,80.2,220.3,59.6,0.7,265.2,8.4,219.8,36.9,48.3,25.6,273.7,43.0,184.9,73.4,193.7,220.5,104.6,96.2,140.3,240.1,243.2,38.0,44.7,280.7,121.0,197.6,171.3,187.8,4.1,93.9,149.8,11.7,131.7,172.5,85.7,188.4,163.5,117.2,234.5,17.9,206.8,215.4,284.3,50.0,164.5,19.6,168.4,222.4,276.9,248.4,170.2,276.7,165.6,156.6,218.5,56.2,287.6,253.8,205.0,139.5,191.1,286.0,18.7,39.5,75.5,17.2,166.8,149.7,38.2,94.2,177.0,283.6,232.1],\"xaxis\":\"x\",\"y\":[22.1,10.4,9.3,18.5,12.9,7.2,11.8,13.2,4.8,10.6,8.6,17.4,9.2,9.7,19.0,22.4,12.5,24.4,11.3,14.6,18.0,12.5,5.6,15.5,9.7,12.0,15.0,15.9,18.9,10.5,21.4,11.9,9.6,17.4,9.5,12.8,25.4,14.7,10.1,21.5,16.6,17.1,20.7,12.9,8.5,14.9,10.6,23.2,14.8,9.7,11.4,10.7,22.6,21.2,20.2,23.7,5.5,13.2,23.8,18.4,8.1,24.2,15.7,14.0,18.0,9.3,9.5,13.4,18.9,22.3,18.3,12.4,8.8,11.0,17.0,8.7,6.9,14.2,5.3,11.0,11.8,12.3,11.3,13.6,21.7,15.2,12.0,16.0,12.9,16.7,11.2,7.3,19.4,22.2,11.5,16.9,11.7,15.5,25.4,17.2,11.7,23.8,14.8,14.7,20.7,19.2,7.2,8.7,5.3,19.8,13.4,21.8,14.1,15.9,14.6,12.6,12.2,9.4,15.9,6.6,15.5,7.0,11.6,15.2,19.7,10.6,6.6,8.8,24.7,9.7,1.6,12.7,5.7,19.6,10.8,11.6,9.5,20.8,9.6,20.7,10.9,19.2,20.1,10.4,11.4,10.3,13.2,25.4,10.9,10.1,16.1,11.6,16.6,19.0,15.6,3.2,15.3,10.1,7.3,12.9,14.4,13.3,14.9,18.0,11.9,11.9,8.0,12.2,17.1,15.0,8.4,14.5,7.6,11.7,11.5,27.0,20.2,11.7,11.8,12.6,10.5,12.2,8.7,26.2,17.6,22.6,10.3,17.3,15.9,6.7,10.8,9.9,5.9,19.6,17.3,7.6,9.7,12.8,25.5,13.4],\"yaxis\":\"y\",\"type\":\"scatter\"}],                        {\"template\":{\"data\":{\"histogram2dcontour\":[{\"type\":\"histogram2dcontour\",\"colorbar\":{\"outlinewidth\":0,\"ticks\":\"\"},\"colorscale\":[[0.0,\"#0d0887\"],[0.1111111111111111,\"#46039f\"],[0.2222222222222222,\"#7201a8\"],[0.3333333333333333,\"#9c179e\"],[0.4444444444444444,\"#bd3786\"],[0.5555555555555556,\"#d8576b\"],[0.6666666666666666,\"#ed7953\"],[0.7777777777777778,\"#fb9f3a\"],[0.8888888888888888,\"#fdca26\"],[1.0,\"#f0f921\"]]}],\"choropleth\":[{\"type\":\"choropleth\",\"colorbar\":{\"outlinewidth\":0,\"ticks\":\"\"}}],\"histogram2d\":[{\"type\":\"histogram2d\",\"colorbar\":{\"outlinewidth\":0,\"ticks\":\"\"},\"colorscale\":[[0.0,\"#0d0887\"],[0.1111111111111111,\"#46039f\"],[0.2222222222222222,\"#7201a8\"],[0.3333333333333333,\"#9c179e\"],[0.4444444444444444,\"#bd3786\"],[0.5555555555555556,\"#d8576b\"],[0.6666666666666666,\"#ed7953\"],[0.7777777777777778,\"#fb9f3a\"],[0.8888888888888888,\"#fdca26\"],[1.0,\"#f0f921\"]]}],\"heatmap\":[{\"type\":\"heatmap\",\"colorbar\":{\"outlinewidth\":0,\"ticks\":\"\"},\"colorscale\":[[0.0,\"#0d0887\"],[0.1111111111111111,\"#46039f\"],[0.2222222222222222,\"#7201a8\"],[0.3333333333333333,\"#9c179e\"],[0.4444444444444444,\"#bd3786\"],[0.5555555555555556,\"#d8576b\"],[0.6666666666666666,\"#ed7953\"],[0.7777777777777778,\"#fb9f3a\"],[0.8888888888888888,\"#fdca26\"],[1.0,\"#f0f921\"]]}],\"heatmapgl\":[{\"type\":\"heatmapgl\",\"colorbar\":{\"outlinewidth\":0,\"ticks\":\"\"},\"colorscale\":[[0.0,\"#0d0887\"],[0.1111111111111111,\"#46039f\"],[0.2222222222222222,\"#7201a8\"],[0.3333333333333333,\"#9c179e\"],[0.4444444444444444,\"#bd3786\"],[0.5555555555555556,\"#d8576b\"],[0.6666666666666666,\"#ed7953\"],[0.7777777777777778,\"#fb9f3a\"],[0.8888888888888888,\"#fdca26\"],[1.0,\"#f0f921\"]]}],\"contourcarpet\":[{\"type\":\"contourcarpet\",\"colorbar\":{\"outlinewidth\":0,\"ticks\":\"\"}}],\"contour\":[{\"type\":\"contour\",\"colorbar\":{\"outlinewidth\":0,\"ticks\":\"\"},\"colorscale\":[[0.0,\"#0d0887\"],[0.1111111111111111,\"#46039f\"],[0.2222222222222222,\"#7201a8\"],[0.3333333333333333,\"#9c179e\"],[0.4444444444444444,\"#bd3786\"],[0.5555555555555556,\"#d8576b\"],[0.6666666666666666,\"#ed7953\"],[0.7777777777777778,\"#fb9f3a\"],[0.8888888888888888,\"#fdca26\"],[1.0,\"#f0f921\"]]}],\"surface\":[{\"type\":\"surface\",\"colorbar\":{\"outlinewidth\":0,\"ticks\":\"\"},\"colorscale\":[[0.0,\"#0d0887\"],[0.1111111111111111,\"#46039f\"],[0.2222222222222222,\"#7201a8\"],[0.3333333333333333,\"#9c179e\"],[0.4444444444444444,\"#bd3786\"],[0.5555555555555556,\"#d8576b\"],[0.6666666666666666,\"#ed7953\"],[0.7777777777777778,\"#fb9f3a\"],[0.8888888888888888,\"#fdca26\"],[1.0,\"#f0f921\"]]}],\"mesh3d\":[{\"type\":\"mesh3d\",\"colorbar\":{\"outlinewidth\":0,\"ticks\":\"\"}}],\"scatter\":[{\"fillpattern\":{\"fillmode\":\"overlay\",\"size\":10,\"solidity\":0.2},\"type\":\"scatter\"}],\"parcoords\":[{\"type\":\"parcoords\",\"line\":{\"colorbar\":{\"outlinewidth\":0,\"ticks\":\"\"}}}],\"scatterpolargl\":[{\"type\":\"scatterpolargl\",\"marker\":{\"colorbar\":{\"outlinewidth\":0,\"ticks\":\"\"}}}],\"bar\":[{\"error_x\":{\"color\":\"#2a3f5f\"},\"error_y\":{\"color\":\"#2a3f5f\"},\"marker\":{\"line\":{\"color\":\"#E5ECF6\",\"width\":0.5},\"pattern\":{\"fillmode\":\"overlay\",\"size\":10,\"solidity\":0.2}},\"type\":\"bar\"}],\"scattergeo\":[{\"type\":\"scattergeo\",\"marker\":{\"colorbar\":{\"outlinewidth\":0,\"ticks\":\"\"}}}],\"scatterpolar\":[{\"type\":\"scatterpolar\",\"marker\":{\"colorbar\":{\"outlinewidth\":0,\"ticks\":\"\"}}}],\"histogram\":[{\"marker\":{\"pattern\":{\"fillmode\":\"overlay\",\"size\":10,\"solidity\":0.2}},\"type\":\"histogram\"}],\"scattergl\":[{\"type\":\"scattergl\",\"marker\":{\"colorbar\":{\"outlinewidth\":0,\"ticks\":\"\"}}}],\"scatter3d\":[{\"type\":\"scatter3d\",\"line\":{\"colorbar\":{\"outlinewidth\":0,\"ticks\":\"\"}},\"marker\":{\"colorbar\":{\"outlinewidth\":0,\"ticks\":\"\"}}}],\"scattermapbox\":[{\"type\":\"scattermapbox\",\"marker\":{\"colorbar\":{\"outlinewidth\":0,\"ticks\":\"\"}}}],\"scatterternary\":[{\"type\":\"scatterternary\",\"marker\":{\"colorbar\":{\"outlinewidth\":0,\"ticks\":\"\"}}}],\"scattercarpet\":[{\"type\":\"scattercarpet\",\"marker\":{\"colorbar\":{\"outlinewidth\":0,\"ticks\":\"\"}}}],\"carpet\":[{\"aaxis\":{\"endlinecolor\":\"#2a3f5f\",\"gridcolor\":\"white\",\"linecolor\":\"white\",\"minorgridcolor\":\"white\",\"startlinecolor\":\"#2a3f5f\"},\"baxis\":{\"endlinecolor\":\"#2a3f5f\",\"gridcolor\":\"white\",\"linecolor\":\"white\",\"minorgridcolor\":\"white\",\"startlinecolor\":\"#2a3f5f\"},\"type\":\"carpet\"}],\"table\":[{\"cells\":{\"fill\":{\"color\":\"#EBF0F8\"},\"line\":{\"color\":\"white\"}},\"header\":{\"fill\":{\"color\":\"#C8D4E3\"},\"line\":{\"color\":\"white\"}},\"type\":\"table\"}],\"barpolar\":[{\"marker\":{\"line\":{\"color\":\"#E5ECF6\",\"width\":0.5},\"pattern\":{\"fillmode\":\"overlay\",\"size\":10,\"solidity\":0.2}},\"type\":\"barpolar\"}],\"pie\":[{\"automargin\":true,\"type\":\"pie\"}]},\"layout\":{\"autotypenumbers\":\"strict\",\"colorway\":[\"#636efa\",\"#EF553B\",\"#00cc96\",\"#ab63fa\",\"#FFA15A\",\"#19d3f3\",\"#FF6692\",\"#B6E880\",\"#FF97FF\",\"#FECB52\"],\"font\":{\"color\":\"#2a3f5f\"},\"hovermode\":\"closest\",\"hoverlabel\":{\"align\":\"left\"},\"paper_bgcolor\":\"white\",\"plot_bgcolor\":\"#E5ECF6\",\"polar\":{\"bgcolor\":\"#E5ECF6\",\"angularaxis\":{\"gridcolor\":\"white\",\"linecolor\":\"white\",\"ticks\":\"\"},\"radialaxis\":{\"gridcolor\":\"white\",\"linecolor\":\"white\",\"ticks\":\"\"}},\"ternary\":{\"bgcolor\":\"#E5ECF6\",\"aaxis\":{\"gridcolor\":\"white\",\"linecolor\":\"white\",\"ticks\":\"\"},\"baxis\":{\"gridcolor\":\"white\",\"linecolor\":\"white\",\"ticks\":\"\"},\"caxis\":{\"gridcolor\":\"white\",\"linecolor\":\"white\",\"ticks\":\"\"}},\"coloraxis\":{\"colorbar\":{\"outlinewidth\":0,\"ticks\":\"\"}},\"colorscale\":{\"sequential\":[[0.0,\"#0d0887\"],[0.1111111111111111,\"#46039f\"],[0.2222222222222222,\"#7201a8\"],[0.3333333333333333,\"#9c179e\"],[0.4444444444444444,\"#bd3786\"],[0.5555555555555556,\"#d8576b\"],[0.6666666666666666,\"#ed7953\"],[0.7777777777777778,\"#fb9f3a\"],[0.8888888888888888,\"#fdca26\"],[1.0,\"#f0f921\"]],\"sequentialminus\":[[0.0,\"#0d0887\"],[0.1111111111111111,\"#46039f\"],[0.2222222222222222,\"#7201a8\"],[0.3333333333333333,\"#9c179e\"],[0.4444444444444444,\"#bd3786\"],[0.5555555555555556,\"#d8576b\"],[0.6666666666666666,\"#ed7953\"],[0.7777777777777778,\"#fb9f3a\"],[0.8888888888888888,\"#fdca26\"],[1.0,\"#f0f921\"]],\"diverging\":[[0,\"#8e0152\"],[0.1,\"#c51b7d\"],[0.2,\"#de77ae\"],[0.3,\"#f1b6da\"],[0.4,\"#fde0ef\"],[0.5,\"#f7f7f7\"],[0.6,\"#e6f5d0\"],[0.7,\"#b8e186\"],[0.8,\"#7fbc41\"],[0.9,\"#4d9221\"],[1,\"#276419\"]]},\"xaxis\":{\"gridcolor\":\"white\",\"linecolor\":\"white\",\"ticks\":\"\",\"title\":{\"standoff\":15},\"zerolinecolor\":\"white\",\"automargin\":true,\"zerolinewidth\":2},\"yaxis\":{\"gridcolor\":\"white\",\"linecolor\":\"white\",\"ticks\":\"\",\"title\":{\"standoff\":15},\"zerolinecolor\":\"white\",\"automargin\":true,\"zerolinewidth\":2},\"scene\":{\"xaxis\":{\"backgroundcolor\":\"#E5ECF6\",\"gridcolor\":\"white\",\"linecolor\":\"white\",\"showbackground\":true,\"ticks\":\"\",\"zerolinecolor\":\"white\",\"gridwidth\":2},\"yaxis\":{\"backgroundcolor\":\"#E5ECF6\",\"gridcolor\":\"white\",\"linecolor\":\"white\",\"showbackground\":true,\"ticks\":\"\",\"zerolinecolor\":\"white\",\"gridwidth\":2},\"zaxis\":{\"backgroundcolor\":\"#E5ECF6\",\"gridcolor\":\"white\",\"linecolor\":\"white\",\"showbackground\":true,\"ticks\":\"\",\"zerolinecolor\":\"white\",\"gridwidth\":2}},\"shapedefaults\":{\"line\":{\"color\":\"#2a3f5f\"}},\"annotationdefaults\":{\"arrowcolor\":\"#2a3f5f\",\"arrowhead\":0,\"arrowwidth\":1},\"geo\":{\"bgcolor\":\"white\",\"landcolor\":\"#E5ECF6\",\"subunitcolor\":\"white\",\"showland\":true,\"showlakes\":true,\"lakecolor\":\"white\"},\"title\":{\"x\":0.05},\"mapbox\":{\"style\":\"light\"}}},\"xaxis\":{\"anchor\":\"y\",\"domain\":[0.0,1.0],\"title\":{\"text\":\"TV\"}},\"yaxis\":{\"anchor\":\"x\",\"domain\":[0.0,1.0],\"title\":{\"text\":\"Sales\"}},\"legend\":{\"tracegroupgap\":0},\"title\":{\"text\":\"Sale Vs TV\"},\"height\":500,\"width\":800},                        {\"responsive\": true}                    ).then(function(){\n",
       "                            \n",
       "var gd = document.getElementById('3d043cef-6c6a-4e5e-a244-98cb41f4bc6b');\n",
       "var x = new MutationObserver(function (mutations, observer) {{\n",
       "        var display = window.getComputedStyle(gd).display;\n",
       "        if (!display || display === 'none') {{\n",
       "            console.log([gd, 'removed!']);\n",
       "            Plotly.purge(gd);\n",
       "            observer.disconnect();\n",
       "        }}\n",
       "}});\n",
       "\n",
       "// Listen for the removal of the full notebook cells\n",
       "var notebookContainer = gd.closest('#notebook-container');\n",
       "if (notebookContainer) {{\n",
       "    x.observe(notebookContainer, {childList: true});\n",
       "}}\n",
       "\n",
       "// Listen for the clearing of the current output cell\n",
       "var outputEl = gd.closest('.output');\n",
       "if (outputEl) {{\n",
       "    x.observe(outputEl, {childList: true});\n",
       "}}\n",
       "\n",
       "                        })                };                });            </script>        </div>"
      ]
     },
     "metadata": {},
     "output_type": "display_data"
    }
   ],
   "source": [
    "px.scatter(df,x='TV',y='Sales',width=800,height=500,title='Sale Vs TV')"
   ]
  },
  {
   "cell_type": "code",
   "execution_count": 17,
   "id": "be1152c4",
   "metadata": {
    "execution": {
     "iopub.execute_input": "2023-07-21T10:58:04.453933Z",
     "iopub.status.busy": "2023-07-21T10:58:04.453494Z",
     "iopub.status.idle": "2023-07-21T10:58:04.509732Z",
     "shell.execute_reply": "2023-07-21T10:58:04.508411Z"
    },
    "papermill": {
     "duration": 0.068801,
     "end_time": "2023-07-21T10:58:04.511835",
     "exception": false,
     "start_time": "2023-07-21T10:58:04.443034",
     "status": "completed"
    },
    "tags": []
   },
   "outputs": [
    {
     "data": {
      "text/html": [
       "<div>                            <div id=\"30068f0a-3290-4e71-be72-6d85e565b642\" class=\"plotly-graph-div\" style=\"height:500px; width:800px;\"></div>            <script type=\"text/javascript\">                require([\"plotly\"], function(Plotly) {                    window.PLOTLYENV=window.PLOTLYENV || {};                                    if (document.getElementById(\"30068f0a-3290-4e71-be72-6d85e565b642\")) {                    Plotly.newPlot(                        \"30068f0a-3290-4e71-be72-6d85e565b642\",                        [{\"hovertemplate\":\"Radio=%{x}\\u003cbr\\u003eSales=%{y}\\u003cextra\\u003e\\u003c\\u002fextra\\u003e\",\"legendgroup\":\"\",\"marker\":{\"color\":\"#636efa\",\"symbol\":\"circle\"},\"mode\":\"markers\",\"name\":\"\",\"orientation\":\"v\",\"showlegend\":false,\"x\":[37.8,39.3,45.9,41.3,10.8,48.9,32.8,19.6,2.1,2.6,5.8,24.0,35.1,7.6,32.9,47.7,36.6,39.6,20.5,23.9,27.7,5.1,15.9,16.9,12.6,3.5,29.3,16.7,27.1,16.0,28.3,17.4,1.5,20.0,1.4,4.1,43.8,49.4,26.7,37.7,22.3,33.4,27.7,8.4,25.7,22.5,9.9,41.5,15.8,11.7,3.1,9.6,41.7,46.2,28.8,49.4,28.1,19.2,49.6,29.5,2.0,42.7,15.5,29.6,42.8,9.3,24.6,14.5,27.5,43.9,30.6,14.3,33.0,5.7,24.6,43.7,1.6,28.5,29.9,7.7,26.7,4.1,20.3,44.5,43.0,18.4,27.5,40.6,25.5,47.8,4.9,1.5,33.5,36.5,14.0,31.6,3.5,21.0,42.3,41.7,4.3,36.3,10.1,17.2,34.3,46.4,11.0,0.3,0.4,26.9,8.2,38.0,15.4,20.6,46.8,35.0,14.3,0.8,36.9,16.0,26.8,21.7,2.4,34.6,32.3,11.8,38.9,0.0,49.0,12.0,39.6,2.9,27.2,33.5,38.6,47.0,39.0,28.9,25.9,43.9,17.0,35.4,33.2,5.7,14.8,1.9,7.3,49.0,40.3,25.8,13.9,8.4,23.3,39.7,21.1,11.6,43.5,1.3,36.9,18.4,18.1,35.8,18.1,36.8,14.7,3.4,37.6,5.2,23.6,10.6,11.6,20.9,20.1,7.1,3.4,48.9,30.2,7.8,2.3,10.0,2.6,5.4,5.7,43.0,21.3,45.1,2.1,28.7,13.9,12.1,41.1,10.8,4.1,42.0,35.6,3.7,4.9,9.3,42.0,8.6],\"xaxis\":\"x\",\"y\":[22.1,10.4,9.3,18.5,12.9,7.2,11.8,13.2,4.8,10.6,8.6,17.4,9.2,9.7,19.0,22.4,12.5,24.4,11.3,14.6,18.0,12.5,5.6,15.5,9.7,12.0,15.0,15.9,18.9,10.5,21.4,11.9,9.6,17.4,9.5,12.8,25.4,14.7,10.1,21.5,16.6,17.1,20.7,12.9,8.5,14.9,10.6,23.2,14.8,9.7,11.4,10.7,22.6,21.2,20.2,23.7,5.5,13.2,23.8,18.4,8.1,24.2,15.7,14.0,18.0,9.3,9.5,13.4,18.9,22.3,18.3,12.4,8.8,11.0,17.0,8.7,6.9,14.2,5.3,11.0,11.8,12.3,11.3,13.6,21.7,15.2,12.0,16.0,12.9,16.7,11.2,7.3,19.4,22.2,11.5,16.9,11.7,15.5,25.4,17.2,11.7,23.8,14.8,14.7,20.7,19.2,7.2,8.7,5.3,19.8,13.4,21.8,14.1,15.9,14.6,12.6,12.2,9.4,15.9,6.6,15.5,7.0,11.6,15.2,19.7,10.6,6.6,8.8,24.7,9.7,1.6,12.7,5.7,19.6,10.8,11.6,9.5,20.8,9.6,20.7,10.9,19.2,20.1,10.4,11.4,10.3,13.2,25.4,10.9,10.1,16.1,11.6,16.6,19.0,15.6,3.2,15.3,10.1,7.3,12.9,14.4,13.3,14.9,18.0,11.9,11.9,8.0,12.2,17.1,15.0,8.4,14.5,7.6,11.7,11.5,27.0,20.2,11.7,11.8,12.6,10.5,12.2,8.7,26.2,17.6,22.6,10.3,17.3,15.9,6.7,10.8,9.9,5.9,19.6,17.3,7.6,9.7,12.8,25.5,13.4],\"yaxis\":\"y\",\"type\":\"scatter\"}],                        {\"template\":{\"data\":{\"histogram2dcontour\":[{\"type\":\"histogram2dcontour\",\"colorbar\":{\"outlinewidth\":0,\"ticks\":\"\"},\"colorscale\":[[0.0,\"#0d0887\"],[0.1111111111111111,\"#46039f\"],[0.2222222222222222,\"#7201a8\"],[0.3333333333333333,\"#9c179e\"],[0.4444444444444444,\"#bd3786\"],[0.5555555555555556,\"#d8576b\"],[0.6666666666666666,\"#ed7953\"],[0.7777777777777778,\"#fb9f3a\"],[0.8888888888888888,\"#fdca26\"],[1.0,\"#f0f921\"]]}],\"choropleth\":[{\"type\":\"choropleth\",\"colorbar\":{\"outlinewidth\":0,\"ticks\":\"\"}}],\"histogram2d\":[{\"type\":\"histogram2d\",\"colorbar\":{\"outlinewidth\":0,\"ticks\":\"\"},\"colorscale\":[[0.0,\"#0d0887\"],[0.1111111111111111,\"#46039f\"],[0.2222222222222222,\"#7201a8\"],[0.3333333333333333,\"#9c179e\"],[0.4444444444444444,\"#bd3786\"],[0.5555555555555556,\"#d8576b\"],[0.6666666666666666,\"#ed7953\"],[0.7777777777777778,\"#fb9f3a\"],[0.8888888888888888,\"#fdca26\"],[1.0,\"#f0f921\"]]}],\"heatmap\":[{\"type\":\"heatmap\",\"colorbar\":{\"outlinewidth\":0,\"ticks\":\"\"},\"colorscale\":[[0.0,\"#0d0887\"],[0.1111111111111111,\"#46039f\"],[0.2222222222222222,\"#7201a8\"],[0.3333333333333333,\"#9c179e\"],[0.4444444444444444,\"#bd3786\"],[0.5555555555555556,\"#d8576b\"],[0.6666666666666666,\"#ed7953\"],[0.7777777777777778,\"#fb9f3a\"],[0.8888888888888888,\"#fdca26\"],[1.0,\"#f0f921\"]]}],\"heatmapgl\":[{\"type\":\"heatmapgl\",\"colorbar\":{\"outlinewidth\":0,\"ticks\":\"\"},\"colorscale\":[[0.0,\"#0d0887\"],[0.1111111111111111,\"#46039f\"],[0.2222222222222222,\"#7201a8\"],[0.3333333333333333,\"#9c179e\"],[0.4444444444444444,\"#bd3786\"],[0.5555555555555556,\"#d8576b\"],[0.6666666666666666,\"#ed7953\"],[0.7777777777777778,\"#fb9f3a\"],[0.8888888888888888,\"#fdca26\"],[1.0,\"#f0f921\"]]}],\"contourcarpet\":[{\"type\":\"contourcarpet\",\"colorbar\":{\"outlinewidth\":0,\"ticks\":\"\"}}],\"contour\":[{\"type\":\"contour\",\"colorbar\":{\"outlinewidth\":0,\"ticks\":\"\"},\"colorscale\":[[0.0,\"#0d0887\"],[0.1111111111111111,\"#46039f\"],[0.2222222222222222,\"#7201a8\"],[0.3333333333333333,\"#9c179e\"],[0.4444444444444444,\"#bd3786\"],[0.5555555555555556,\"#d8576b\"],[0.6666666666666666,\"#ed7953\"],[0.7777777777777778,\"#fb9f3a\"],[0.8888888888888888,\"#fdca26\"],[1.0,\"#f0f921\"]]}],\"surface\":[{\"type\":\"surface\",\"colorbar\":{\"outlinewidth\":0,\"ticks\":\"\"},\"colorscale\":[[0.0,\"#0d0887\"],[0.1111111111111111,\"#46039f\"],[0.2222222222222222,\"#7201a8\"],[0.3333333333333333,\"#9c179e\"],[0.4444444444444444,\"#bd3786\"],[0.5555555555555556,\"#d8576b\"],[0.6666666666666666,\"#ed7953\"],[0.7777777777777778,\"#fb9f3a\"],[0.8888888888888888,\"#fdca26\"],[1.0,\"#f0f921\"]]}],\"mesh3d\":[{\"type\":\"mesh3d\",\"colorbar\":{\"outlinewidth\":0,\"ticks\":\"\"}}],\"scatter\":[{\"fillpattern\":{\"fillmode\":\"overlay\",\"size\":10,\"solidity\":0.2},\"type\":\"scatter\"}],\"parcoords\":[{\"type\":\"parcoords\",\"line\":{\"colorbar\":{\"outlinewidth\":0,\"ticks\":\"\"}}}],\"scatterpolargl\":[{\"type\":\"scatterpolargl\",\"marker\":{\"colorbar\":{\"outlinewidth\":0,\"ticks\":\"\"}}}],\"bar\":[{\"error_x\":{\"color\":\"#2a3f5f\"},\"error_y\":{\"color\":\"#2a3f5f\"},\"marker\":{\"line\":{\"color\":\"#E5ECF6\",\"width\":0.5},\"pattern\":{\"fillmode\":\"overlay\",\"size\":10,\"solidity\":0.2}},\"type\":\"bar\"}],\"scattergeo\":[{\"type\":\"scattergeo\",\"marker\":{\"colorbar\":{\"outlinewidth\":0,\"ticks\":\"\"}}}],\"scatterpolar\":[{\"type\":\"scatterpolar\",\"marker\":{\"colorbar\":{\"outlinewidth\":0,\"ticks\":\"\"}}}],\"histogram\":[{\"marker\":{\"pattern\":{\"fillmode\":\"overlay\",\"size\":10,\"solidity\":0.2}},\"type\":\"histogram\"}],\"scattergl\":[{\"type\":\"scattergl\",\"marker\":{\"colorbar\":{\"outlinewidth\":0,\"ticks\":\"\"}}}],\"scatter3d\":[{\"type\":\"scatter3d\",\"line\":{\"colorbar\":{\"outlinewidth\":0,\"ticks\":\"\"}},\"marker\":{\"colorbar\":{\"outlinewidth\":0,\"ticks\":\"\"}}}],\"scattermapbox\":[{\"type\":\"scattermapbox\",\"marker\":{\"colorbar\":{\"outlinewidth\":0,\"ticks\":\"\"}}}],\"scatterternary\":[{\"type\":\"scatterternary\",\"marker\":{\"colorbar\":{\"outlinewidth\":0,\"ticks\":\"\"}}}],\"scattercarpet\":[{\"type\":\"scattercarpet\",\"marker\":{\"colorbar\":{\"outlinewidth\":0,\"ticks\":\"\"}}}],\"carpet\":[{\"aaxis\":{\"endlinecolor\":\"#2a3f5f\",\"gridcolor\":\"white\",\"linecolor\":\"white\",\"minorgridcolor\":\"white\",\"startlinecolor\":\"#2a3f5f\"},\"baxis\":{\"endlinecolor\":\"#2a3f5f\",\"gridcolor\":\"white\",\"linecolor\":\"white\",\"minorgridcolor\":\"white\",\"startlinecolor\":\"#2a3f5f\"},\"type\":\"carpet\"}],\"table\":[{\"cells\":{\"fill\":{\"color\":\"#EBF0F8\"},\"line\":{\"color\":\"white\"}},\"header\":{\"fill\":{\"color\":\"#C8D4E3\"},\"line\":{\"color\":\"white\"}},\"type\":\"table\"}],\"barpolar\":[{\"marker\":{\"line\":{\"color\":\"#E5ECF6\",\"width\":0.5},\"pattern\":{\"fillmode\":\"overlay\",\"size\":10,\"solidity\":0.2}},\"type\":\"barpolar\"}],\"pie\":[{\"automargin\":true,\"type\":\"pie\"}]},\"layout\":{\"autotypenumbers\":\"strict\",\"colorway\":[\"#636efa\",\"#EF553B\",\"#00cc96\",\"#ab63fa\",\"#FFA15A\",\"#19d3f3\",\"#FF6692\",\"#B6E880\",\"#FF97FF\",\"#FECB52\"],\"font\":{\"color\":\"#2a3f5f\"},\"hovermode\":\"closest\",\"hoverlabel\":{\"align\":\"left\"},\"paper_bgcolor\":\"white\",\"plot_bgcolor\":\"#E5ECF6\",\"polar\":{\"bgcolor\":\"#E5ECF6\",\"angularaxis\":{\"gridcolor\":\"white\",\"linecolor\":\"white\",\"ticks\":\"\"},\"radialaxis\":{\"gridcolor\":\"white\",\"linecolor\":\"white\",\"ticks\":\"\"}},\"ternary\":{\"bgcolor\":\"#E5ECF6\",\"aaxis\":{\"gridcolor\":\"white\",\"linecolor\":\"white\",\"ticks\":\"\"},\"baxis\":{\"gridcolor\":\"white\",\"linecolor\":\"white\",\"ticks\":\"\"},\"caxis\":{\"gridcolor\":\"white\",\"linecolor\":\"white\",\"ticks\":\"\"}},\"coloraxis\":{\"colorbar\":{\"outlinewidth\":0,\"ticks\":\"\"}},\"colorscale\":{\"sequential\":[[0.0,\"#0d0887\"],[0.1111111111111111,\"#46039f\"],[0.2222222222222222,\"#7201a8\"],[0.3333333333333333,\"#9c179e\"],[0.4444444444444444,\"#bd3786\"],[0.5555555555555556,\"#d8576b\"],[0.6666666666666666,\"#ed7953\"],[0.7777777777777778,\"#fb9f3a\"],[0.8888888888888888,\"#fdca26\"],[1.0,\"#f0f921\"]],\"sequentialminus\":[[0.0,\"#0d0887\"],[0.1111111111111111,\"#46039f\"],[0.2222222222222222,\"#7201a8\"],[0.3333333333333333,\"#9c179e\"],[0.4444444444444444,\"#bd3786\"],[0.5555555555555556,\"#d8576b\"],[0.6666666666666666,\"#ed7953\"],[0.7777777777777778,\"#fb9f3a\"],[0.8888888888888888,\"#fdca26\"],[1.0,\"#f0f921\"]],\"diverging\":[[0,\"#8e0152\"],[0.1,\"#c51b7d\"],[0.2,\"#de77ae\"],[0.3,\"#f1b6da\"],[0.4,\"#fde0ef\"],[0.5,\"#f7f7f7\"],[0.6,\"#e6f5d0\"],[0.7,\"#b8e186\"],[0.8,\"#7fbc41\"],[0.9,\"#4d9221\"],[1,\"#276419\"]]},\"xaxis\":{\"gridcolor\":\"white\",\"linecolor\":\"white\",\"ticks\":\"\",\"title\":{\"standoff\":15},\"zerolinecolor\":\"white\",\"automargin\":true,\"zerolinewidth\":2},\"yaxis\":{\"gridcolor\":\"white\",\"linecolor\":\"white\",\"ticks\":\"\",\"title\":{\"standoff\":15},\"zerolinecolor\":\"white\",\"automargin\":true,\"zerolinewidth\":2},\"scene\":{\"xaxis\":{\"backgroundcolor\":\"#E5ECF6\",\"gridcolor\":\"white\",\"linecolor\":\"white\",\"showbackground\":true,\"ticks\":\"\",\"zerolinecolor\":\"white\",\"gridwidth\":2},\"yaxis\":{\"backgroundcolor\":\"#E5ECF6\",\"gridcolor\":\"white\",\"linecolor\":\"white\",\"showbackground\":true,\"ticks\":\"\",\"zerolinecolor\":\"white\",\"gridwidth\":2},\"zaxis\":{\"backgroundcolor\":\"#E5ECF6\",\"gridcolor\":\"white\",\"linecolor\":\"white\",\"showbackground\":true,\"ticks\":\"\",\"zerolinecolor\":\"white\",\"gridwidth\":2}},\"shapedefaults\":{\"line\":{\"color\":\"#2a3f5f\"}},\"annotationdefaults\":{\"arrowcolor\":\"#2a3f5f\",\"arrowhead\":0,\"arrowwidth\":1},\"geo\":{\"bgcolor\":\"white\",\"landcolor\":\"#E5ECF6\",\"subunitcolor\":\"white\",\"showland\":true,\"showlakes\":true,\"lakecolor\":\"white\"},\"title\":{\"x\":0.05},\"mapbox\":{\"style\":\"light\"}}},\"xaxis\":{\"anchor\":\"y\",\"domain\":[0.0,1.0],\"title\":{\"text\":\"Radio\"}},\"yaxis\":{\"anchor\":\"x\",\"domain\":[0.0,1.0],\"title\":{\"text\":\"Sales\"}},\"legend\":{\"tracegroupgap\":0},\"title\":{\"text\":\"Radio Vs TV\"},\"height\":500,\"width\":800},                        {\"responsive\": true}                    ).then(function(){\n",
       "                            \n",
       "var gd = document.getElementById('30068f0a-3290-4e71-be72-6d85e565b642');\n",
       "var x = new MutationObserver(function (mutations, observer) {{\n",
       "        var display = window.getComputedStyle(gd).display;\n",
       "        if (!display || display === 'none') {{\n",
       "            console.log([gd, 'removed!']);\n",
       "            Plotly.purge(gd);\n",
       "            observer.disconnect();\n",
       "        }}\n",
       "}});\n",
       "\n",
       "// Listen for the removal of the full notebook cells\n",
       "var notebookContainer = gd.closest('#notebook-container');\n",
       "if (notebookContainer) {{\n",
       "    x.observe(notebookContainer, {childList: true});\n",
       "}}\n",
       "\n",
       "// Listen for the clearing of the current output cell\n",
       "var outputEl = gd.closest('.output');\n",
       "if (outputEl) {{\n",
       "    x.observe(outputEl, {childList: true});\n",
       "}}\n",
       "\n",
       "                        })                };                });            </script>        </div>"
      ]
     },
     "metadata": {},
     "output_type": "display_data"
    }
   ],
   "source": [
    "px.scatter(df,x='Radio',y='Sales',width=800,height=500,title='Radio Vs TV')"
   ]
  },
  {
   "cell_type": "code",
   "execution_count": 18,
   "id": "596e04a8",
   "metadata": {
    "execution": {
     "iopub.execute_input": "2023-07-21T10:58:04.532263Z",
     "iopub.status.busy": "2023-07-21T10:58:04.531851Z",
     "iopub.status.idle": "2023-07-21T10:58:04.587236Z",
     "shell.execute_reply": "2023-07-21T10:58:04.586168Z"
    },
    "papermill": {
     "duration": 0.067654,
     "end_time": "2023-07-21T10:58:04.589145",
     "exception": false,
     "start_time": "2023-07-21T10:58:04.521491",
     "status": "completed"
    },
    "tags": []
   },
   "outputs": [
    {
     "data": {
      "text/html": [
       "<div>                            <div id=\"80593fa9-1d8d-4504-affc-3413985189ba\" class=\"plotly-graph-div\" style=\"height:500px; width:800px;\"></div>            <script type=\"text/javascript\">                require([\"plotly\"], function(Plotly) {                    window.PLOTLYENV=window.PLOTLYENV || {};                                    if (document.getElementById(\"80593fa9-1d8d-4504-affc-3413985189ba\")) {                    Plotly.newPlot(                        \"80593fa9-1d8d-4504-affc-3413985189ba\",                        [{\"hovertemplate\":\"Newspaper=%{x}\\u003cbr\\u003eSales=%{y}\\u003cextra\\u003e\\u003c\\u002fextra\\u003e\",\"legendgroup\":\"\",\"marker\":{\"color\":\"#636efa\",\"symbol\":\"circle\"},\"mode\":\"markers\",\"name\":\"\",\"orientation\":\"v\",\"showlegend\":false,\"x\":[69.2,45.1,69.3,58.5,58.4,75.0,23.5,11.6,1.0,21.2,24.2,4.0,65.9,7.2,46.0,52.9,114.0,55.8,18.3,19.1,53.4,23.5,49.6,26.2,18.3,19.5,12.6,22.9,22.9,40.8,43.2,38.6,30.0,0.3,7.4,8.5,5.0,45.7,35.1,32.0,31.6,38.7,1.8,26.4,43.3,31.5,35.7,18.5,49.9,36.8,34.6,3.6,39.6,58.7,15.9,60.0,41.4,16.6,37.7,9.3,21.4,54.7,27.3,8.4,28.9,0.9,2.2,10.2,11.0,27.2,38.7,31.7,19.3,31.3,13.1,89.4,20.7,14.2,9.4,23.1,22.3,36.9,32.5,35.6,33.8,65.7,16.0,63.2,73.4,51.4,9.3,33.0,59.0,72.3,10.9,52.9,5.9,22.0,51.2,45.9,49.8,100.9,21.4,17.9,5.3,59.0,29.7,23.2,25.6,5.5,56.5,23.2,2.4,10.7,34.5,52.7,25.6,14.8,79.2,22.3,46.2,50.4,15.6,12.4,74.2,25.9,50.6,9.2,3.2,43.1,8.7,43.0,2.1,45.1,65.6,8.5,9.3,59.7,20.5,1.7,12.9,75.6,37.9,34.4,38.9,9.0,8.7,44.3,11.9,20.6,37.0,48.7,14.2,37.7,9.5,5.7,50.5,24.3,45.2,34.6,30.7,49.3,25.6,7.4,5.4,84.8,21.6,19.4,57.6,6.4,18.4,47.4,17.0,12.8,13.1,41.8,20.3,35.2,23.7,17.6,8.3,27.4,29.7,71.8,30.0,19.6,26.6,18.2,3.7,23.4,5.8,6.0,31.6,3.6,6.0,13.8,8.1,6.4,66.2,8.7],\"xaxis\":\"x\",\"y\":[22.1,10.4,9.3,18.5,12.9,7.2,11.8,13.2,4.8,10.6,8.6,17.4,9.2,9.7,19.0,22.4,12.5,24.4,11.3,14.6,18.0,12.5,5.6,15.5,9.7,12.0,15.0,15.9,18.9,10.5,21.4,11.9,9.6,17.4,9.5,12.8,25.4,14.7,10.1,21.5,16.6,17.1,20.7,12.9,8.5,14.9,10.6,23.2,14.8,9.7,11.4,10.7,22.6,21.2,20.2,23.7,5.5,13.2,23.8,18.4,8.1,24.2,15.7,14.0,18.0,9.3,9.5,13.4,18.9,22.3,18.3,12.4,8.8,11.0,17.0,8.7,6.9,14.2,5.3,11.0,11.8,12.3,11.3,13.6,21.7,15.2,12.0,16.0,12.9,16.7,11.2,7.3,19.4,22.2,11.5,16.9,11.7,15.5,25.4,17.2,11.7,23.8,14.8,14.7,20.7,19.2,7.2,8.7,5.3,19.8,13.4,21.8,14.1,15.9,14.6,12.6,12.2,9.4,15.9,6.6,15.5,7.0,11.6,15.2,19.7,10.6,6.6,8.8,24.7,9.7,1.6,12.7,5.7,19.6,10.8,11.6,9.5,20.8,9.6,20.7,10.9,19.2,20.1,10.4,11.4,10.3,13.2,25.4,10.9,10.1,16.1,11.6,16.6,19.0,15.6,3.2,15.3,10.1,7.3,12.9,14.4,13.3,14.9,18.0,11.9,11.9,8.0,12.2,17.1,15.0,8.4,14.5,7.6,11.7,11.5,27.0,20.2,11.7,11.8,12.6,10.5,12.2,8.7,26.2,17.6,22.6,10.3,17.3,15.9,6.7,10.8,9.9,5.9,19.6,17.3,7.6,9.7,12.8,25.5,13.4],\"yaxis\":\"y\",\"type\":\"scatter\"}],                        {\"template\":{\"data\":{\"histogram2dcontour\":[{\"type\":\"histogram2dcontour\",\"colorbar\":{\"outlinewidth\":0,\"ticks\":\"\"},\"colorscale\":[[0.0,\"#0d0887\"],[0.1111111111111111,\"#46039f\"],[0.2222222222222222,\"#7201a8\"],[0.3333333333333333,\"#9c179e\"],[0.4444444444444444,\"#bd3786\"],[0.5555555555555556,\"#d8576b\"],[0.6666666666666666,\"#ed7953\"],[0.7777777777777778,\"#fb9f3a\"],[0.8888888888888888,\"#fdca26\"],[1.0,\"#f0f921\"]]}],\"choropleth\":[{\"type\":\"choropleth\",\"colorbar\":{\"outlinewidth\":0,\"ticks\":\"\"}}],\"histogram2d\":[{\"type\":\"histogram2d\",\"colorbar\":{\"outlinewidth\":0,\"ticks\":\"\"},\"colorscale\":[[0.0,\"#0d0887\"],[0.1111111111111111,\"#46039f\"],[0.2222222222222222,\"#7201a8\"],[0.3333333333333333,\"#9c179e\"],[0.4444444444444444,\"#bd3786\"],[0.5555555555555556,\"#d8576b\"],[0.6666666666666666,\"#ed7953\"],[0.7777777777777778,\"#fb9f3a\"],[0.8888888888888888,\"#fdca26\"],[1.0,\"#f0f921\"]]}],\"heatmap\":[{\"type\":\"heatmap\",\"colorbar\":{\"outlinewidth\":0,\"ticks\":\"\"},\"colorscale\":[[0.0,\"#0d0887\"],[0.1111111111111111,\"#46039f\"],[0.2222222222222222,\"#7201a8\"],[0.3333333333333333,\"#9c179e\"],[0.4444444444444444,\"#bd3786\"],[0.5555555555555556,\"#d8576b\"],[0.6666666666666666,\"#ed7953\"],[0.7777777777777778,\"#fb9f3a\"],[0.8888888888888888,\"#fdca26\"],[1.0,\"#f0f921\"]]}],\"heatmapgl\":[{\"type\":\"heatmapgl\",\"colorbar\":{\"outlinewidth\":0,\"ticks\":\"\"},\"colorscale\":[[0.0,\"#0d0887\"],[0.1111111111111111,\"#46039f\"],[0.2222222222222222,\"#7201a8\"],[0.3333333333333333,\"#9c179e\"],[0.4444444444444444,\"#bd3786\"],[0.5555555555555556,\"#d8576b\"],[0.6666666666666666,\"#ed7953\"],[0.7777777777777778,\"#fb9f3a\"],[0.8888888888888888,\"#fdca26\"],[1.0,\"#f0f921\"]]}],\"contourcarpet\":[{\"type\":\"contourcarpet\",\"colorbar\":{\"outlinewidth\":0,\"ticks\":\"\"}}],\"contour\":[{\"type\":\"contour\",\"colorbar\":{\"outlinewidth\":0,\"ticks\":\"\"},\"colorscale\":[[0.0,\"#0d0887\"],[0.1111111111111111,\"#46039f\"],[0.2222222222222222,\"#7201a8\"],[0.3333333333333333,\"#9c179e\"],[0.4444444444444444,\"#bd3786\"],[0.5555555555555556,\"#d8576b\"],[0.6666666666666666,\"#ed7953\"],[0.7777777777777778,\"#fb9f3a\"],[0.8888888888888888,\"#fdca26\"],[1.0,\"#f0f921\"]]}],\"surface\":[{\"type\":\"surface\",\"colorbar\":{\"outlinewidth\":0,\"ticks\":\"\"},\"colorscale\":[[0.0,\"#0d0887\"],[0.1111111111111111,\"#46039f\"],[0.2222222222222222,\"#7201a8\"],[0.3333333333333333,\"#9c179e\"],[0.4444444444444444,\"#bd3786\"],[0.5555555555555556,\"#d8576b\"],[0.6666666666666666,\"#ed7953\"],[0.7777777777777778,\"#fb9f3a\"],[0.8888888888888888,\"#fdca26\"],[1.0,\"#f0f921\"]]}],\"mesh3d\":[{\"type\":\"mesh3d\",\"colorbar\":{\"outlinewidth\":0,\"ticks\":\"\"}}],\"scatter\":[{\"fillpattern\":{\"fillmode\":\"overlay\",\"size\":10,\"solidity\":0.2},\"type\":\"scatter\"}],\"parcoords\":[{\"type\":\"parcoords\",\"line\":{\"colorbar\":{\"outlinewidth\":0,\"ticks\":\"\"}}}],\"scatterpolargl\":[{\"type\":\"scatterpolargl\",\"marker\":{\"colorbar\":{\"outlinewidth\":0,\"ticks\":\"\"}}}],\"bar\":[{\"error_x\":{\"color\":\"#2a3f5f\"},\"error_y\":{\"color\":\"#2a3f5f\"},\"marker\":{\"line\":{\"color\":\"#E5ECF6\",\"width\":0.5},\"pattern\":{\"fillmode\":\"overlay\",\"size\":10,\"solidity\":0.2}},\"type\":\"bar\"}],\"scattergeo\":[{\"type\":\"scattergeo\",\"marker\":{\"colorbar\":{\"outlinewidth\":0,\"ticks\":\"\"}}}],\"scatterpolar\":[{\"type\":\"scatterpolar\",\"marker\":{\"colorbar\":{\"outlinewidth\":0,\"ticks\":\"\"}}}],\"histogram\":[{\"marker\":{\"pattern\":{\"fillmode\":\"overlay\",\"size\":10,\"solidity\":0.2}},\"type\":\"histogram\"}],\"scattergl\":[{\"type\":\"scattergl\",\"marker\":{\"colorbar\":{\"outlinewidth\":0,\"ticks\":\"\"}}}],\"scatter3d\":[{\"type\":\"scatter3d\",\"line\":{\"colorbar\":{\"outlinewidth\":0,\"ticks\":\"\"}},\"marker\":{\"colorbar\":{\"outlinewidth\":0,\"ticks\":\"\"}}}],\"scattermapbox\":[{\"type\":\"scattermapbox\",\"marker\":{\"colorbar\":{\"outlinewidth\":0,\"ticks\":\"\"}}}],\"scatterternary\":[{\"type\":\"scatterternary\",\"marker\":{\"colorbar\":{\"outlinewidth\":0,\"ticks\":\"\"}}}],\"scattercarpet\":[{\"type\":\"scattercarpet\",\"marker\":{\"colorbar\":{\"outlinewidth\":0,\"ticks\":\"\"}}}],\"carpet\":[{\"aaxis\":{\"endlinecolor\":\"#2a3f5f\",\"gridcolor\":\"white\",\"linecolor\":\"white\",\"minorgridcolor\":\"white\",\"startlinecolor\":\"#2a3f5f\"},\"baxis\":{\"endlinecolor\":\"#2a3f5f\",\"gridcolor\":\"white\",\"linecolor\":\"white\",\"minorgridcolor\":\"white\",\"startlinecolor\":\"#2a3f5f\"},\"type\":\"carpet\"}],\"table\":[{\"cells\":{\"fill\":{\"color\":\"#EBF0F8\"},\"line\":{\"color\":\"white\"}},\"header\":{\"fill\":{\"color\":\"#C8D4E3\"},\"line\":{\"color\":\"white\"}},\"type\":\"table\"}],\"barpolar\":[{\"marker\":{\"line\":{\"color\":\"#E5ECF6\",\"width\":0.5},\"pattern\":{\"fillmode\":\"overlay\",\"size\":10,\"solidity\":0.2}},\"type\":\"barpolar\"}],\"pie\":[{\"automargin\":true,\"type\":\"pie\"}]},\"layout\":{\"autotypenumbers\":\"strict\",\"colorway\":[\"#636efa\",\"#EF553B\",\"#00cc96\",\"#ab63fa\",\"#FFA15A\",\"#19d3f3\",\"#FF6692\",\"#B6E880\",\"#FF97FF\",\"#FECB52\"],\"font\":{\"color\":\"#2a3f5f\"},\"hovermode\":\"closest\",\"hoverlabel\":{\"align\":\"left\"},\"paper_bgcolor\":\"white\",\"plot_bgcolor\":\"#E5ECF6\",\"polar\":{\"bgcolor\":\"#E5ECF6\",\"angularaxis\":{\"gridcolor\":\"white\",\"linecolor\":\"white\",\"ticks\":\"\"},\"radialaxis\":{\"gridcolor\":\"white\",\"linecolor\":\"white\",\"ticks\":\"\"}},\"ternary\":{\"bgcolor\":\"#E5ECF6\",\"aaxis\":{\"gridcolor\":\"white\",\"linecolor\":\"white\",\"ticks\":\"\"},\"baxis\":{\"gridcolor\":\"white\",\"linecolor\":\"white\",\"ticks\":\"\"},\"caxis\":{\"gridcolor\":\"white\",\"linecolor\":\"white\",\"ticks\":\"\"}},\"coloraxis\":{\"colorbar\":{\"outlinewidth\":0,\"ticks\":\"\"}},\"colorscale\":{\"sequential\":[[0.0,\"#0d0887\"],[0.1111111111111111,\"#46039f\"],[0.2222222222222222,\"#7201a8\"],[0.3333333333333333,\"#9c179e\"],[0.4444444444444444,\"#bd3786\"],[0.5555555555555556,\"#d8576b\"],[0.6666666666666666,\"#ed7953\"],[0.7777777777777778,\"#fb9f3a\"],[0.8888888888888888,\"#fdca26\"],[1.0,\"#f0f921\"]],\"sequentialminus\":[[0.0,\"#0d0887\"],[0.1111111111111111,\"#46039f\"],[0.2222222222222222,\"#7201a8\"],[0.3333333333333333,\"#9c179e\"],[0.4444444444444444,\"#bd3786\"],[0.5555555555555556,\"#d8576b\"],[0.6666666666666666,\"#ed7953\"],[0.7777777777777778,\"#fb9f3a\"],[0.8888888888888888,\"#fdca26\"],[1.0,\"#f0f921\"]],\"diverging\":[[0,\"#8e0152\"],[0.1,\"#c51b7d\"],[0.2,\"#de77ae\"],[0.3,\"#f1b6da\"],[0.4,\"#fde0ef\"],[0.5,\"#f7f7f7\"],[0.6,\"#e6f5d0\"],[0.7,\"#b8e186\"],[0.8,\"#7fbc41\"],[0.9,\"#4d9221\"],[1,\"#276419\"]]},\"xaxis\":{\"gridcolor\":\"white\",\"linecolor\":\"white\",\"ticks\":\"\",\"title\":{\"standoff\":15},\"zerolinecolor\":\"white\",\"automargin\":true,\"zerolinewidth\":2},\"yaxis\":{\"gridcolor\":\"white\",\"linecolor\":\"white\",\"ticks\":\"\",\"title\":{\"standoff\":15},\"zerolinecolor\":\"white\",\"automargin\":true,\"zerolinewidth\":2},\"scene\":{\"xaxis\":{\"backgroundcolor\":\"#E5ECF6\",\"gridcolor\":\"white\",\"linecolor\":\"white\",\"showbackground\":true,\"ticks\":\"\",\"zerolinecolor\":\"white\",\"gridwidth\":2},\"yaxis\":{\"backgroundcolor\":\"#E5ECF6\",\"gridcolor\":\"white\",\"linecolor\":\"white\",\"showbackground\":true,\"ticks\":\"\",\"zerolinecolor\":\"white\",\"gridwidth\":2},\"zaxis\":{\"backgroundcolor\":\"#E5ECF6\",\"gridcolor\":\"white\",\"linecolor\":\"white\",\"showbackground\":true,\"ticks\":\"\",\"zerolinecolor\":\"white\",\"gridwidth\":2}},\"shapedefaults\":{\"line\":{\"color\":\"#2a3f5f\"}},\"annotationdefaults\":{\"arrowcolor\":\"#2a3f5f\",\"arrowhead\":0,\"arrowwidth\":1},\"geo\":{\"bgcolor\":\"white\",\"landcolor\":\"#E5ECF6\",\"subunitcolor\":\"white\",\"showland\":true,\"showlakes\":true,\"lakecolor\":\"white\"},\"title\":{\"x\":0.05},\"mapbox\":{\"style\":\"light\"}}},\"xaxis\":{\"anchor\":\"y\",\"domain\":[0.0,1.0],\"title\":{\"text\":\"Newspaper\"}},\"yaxis\":{\"anchor\":\"x\",\"domain\":[0.0,1.0],\"title\":{\"text\":\"Sales\"}},\"legend\":{\"tracegroupgap\":0},\"title\":{\"text\":\"Newspaper Vs TV\"},\"height\":500,\"width\":800},                        {\"responsive\": true}                    ).then(function(){\n",
       "                            \n",
       "var gd = document.getElementById('80593fa9-1d8d-4504-affc-3413985189ba');\n",
       "var x = new MutationObserver(function (mutations, observer) {{\n",
       "        var display = window.getComputedStyle(gd).display;\n",
       "        if (!display || display === 'none') {{\n",
       "            console.log([gd, 'removed!']);\n",
       "            Plotly.purge(gd);\n",
       "            observer.disconnect();\n",
       "        }}\n",
       "}});\n",
       "\n",
       "// Listen for the removal of the full notebook cells\n",
       "var notebookContainer = gd.closest('#notebook-container');\n",
       "if (notebookContainer) {{\n",
       "    x.observe(notebookContainer, {childList: true});\n",
       "}}\n",
       "\n",
       "// Listen for the clearing of the current output cell\n",
       "var outputEl = gd.closest('.output');\n",
       "if (outputEl) {{\n",
       "    x.observe(outputEl, {childList: true});\n",
       "}}\n",
       "\n",
       "                        })                };                });            </script>        </div>"
      ]
     },
     "metadata": {},
     "output_type": "display_data"
    }
   ],
   "source": [
    "px.scatter(df,x='Newspaper',y='Sales',width=800,height=500,title='Newspaper Vs TV')"
   ]
  },
  {
   "cell_type": "markdown",
   "id": "33677bf7",
   "metadata": {
    "papermill": {
     "duration": 0.009419,
     "end_time": "2023-07-21T10:58:04.608651",
     "exception": false,
     "start_time": "2023-07-21T10:58:04.599232",
     "status": "completed"
    },
    "tags": []
   },
   "source": [
    "### Linear Regression"
   ]
  },
  {
   "cell_type": "code",
   "execution_count": 19,
   "id": "3c0f7a94",
   "metadata": {
    "execution": {
     "iopub.execute_input": "2023-07-21T10:58:04.631115Z",
     "iopub.status.busy": "2023-07-21T10:58:04.630518Z",
     "iopub.status.idle": "2023-07-21T10:58:05.140455Z",
     "shell.execute_reply": "2023-07-21T10:58:05.139698Z"
    },
    "papermill": {
     "duration": 0.523351,
     "end_time": "2023-07-21T10:58:05.142615",
     "exception": false,
     "start_time": "2023-07-21T10:58:04.619264",
     "status": "completed"
    },
    "tags": []
   },
   "outputs": [],
   "source": [
    "from sklearn.model_selection import train_test_split\n",
    "from sklearn.linear_model import LinearRegression\n",
    "from sklearn.metrics import r2_score,mean_squared_error,mean_absolute_percentage_error"
   ]
  },
  {
   "cell_type": "code",
   "execution_count": 20,
   "id": "5eec9193",
   "metadata": {
    "execution": {
     "iopub.execute_input": "2023-07-21T10:58:05.164388Z",
     "iopub.status.busy": "2023-07-21T10:58:05.163798Z",
     "iopub.status.idle": "2023-07-21T10:58:05.168390Z",
     "shell.execute_reply": "2023-07-21T10:58:05.167596Z"
    },
    "papermill": {
     "duration": 0.017263,
     "end_time": "2023-07-21T10:58:05.170030",
     "exception": false,
     "start_time": "2023-07-21T10:58:05.152767",
     "status": "completed"
    },
    "tags": []
   },
   "outputs": [],
   "source": [
    "y=df['Sales']\n",
    "x=df.drop(['Sales'],axis=1)"
   ]
  },
  {
   "cell_type": "code",
   "execution_count": 21,
   "id": "fb9af4b9",
   "metadata": {
    "execution": {
     "iopub.execute_input": "2023-07-21T10:58:05.191373Z",
     "iopub.status.busy": "2023-07-21T10:58:05.190987Z",
     "iopub.status.idle": "2023-07-21T10:58:05.196656Z",
     "shell.execute_reply": "2023-07-21T10:58:05.195815Z"
    },
    "papermill": {
     "duration": 0.018779,
     "end_time": "2023-07-21T10:58:05.198408",
     "exception": false,
     "start_time": "2023-07-21T10:58:05.179629",
     "status": "completed"
    },
    "tags": []
   },
   "outputs": [],
   "source": [
    "x_train,x_test,y_train,y_test=train_test_split(x,y,test_size=0.3,random_state=42)"
   ]
  },
  {
   "cell_type": "code",
   "execution_count": 22,
   "id": "0a00e0b2",
   "metadata": {
    "execution": {
     "iopub.execute_input": "2023-07-21T10:58:05.220011Z",
     "iopub.status.busy": "2023-07-21T10:58:05.219468Z",
     "iopub.status.idle": "2023-07-21T10:58:05.222840Z",
     "shell.execute_reply": "2023-07-21T10:58:05.222233Z"
    },
    "papermill": {
     "duration": 0.016291,
     "end_time": "2023-07-21T10:58:05.224782",
     "exception": false,
     "start_time": "2023-07-21T10:58:05.208491",
     "status": "completed"
    },
    "tags": []
   },
   "outputs": [],
   "source": [
    "lr=LinearRegression()"
   ]
  },
  {
   "cell_type": "code",
   "execution_count": 23,
   "id": "a84864b2",
   "metadata": {
    "execution": {
     "iopub.execute_input": "2023-07-21T10:58:05.246312Z",
     "iopub.status.busy": "2023-07-21T10:58:05.245929Z",
     "iopub.status.idle": "2023-07-21T10:58:05.274743Z",
     "shell.execute_reply": "2023-07-21T10:58:05.274112Z"
    },
    "papermill": {
     "duration": 0.042299,
     "end_time": "2023-07-21T10:58:05.277016",
     "exception": false,
     "start_time": "2023-07-21T10:58:05.234717",
     "status": "completed"
    },
    "tags": []
   },
   "outputs": [
    {
     "data": {
      "text/html": [
       "<style>#sk-container-id-1 {color: black;background-color: white;}#sk-container-id-1 pre{padding: 0;}#sk-container-id-1 div.sk-toggleable {background-color: white;}#sk-container-id-1 label.sk-toggleable__label {cursor: pointer;display: block;width: 100%;margin-bottom: 0;padding: 0.3em;box-sizing: border-box;text-align: center;}#sk-container-id-1 label.sk-toggleable__label-arrow:before {content: \"▸\";float: left;margin-right: 0.25em;color: #696969;}#sk-container-id-1 label.sk-toggleable__label-arrow:hover:before {color: black;}#sk-container-id-1 div.sk-estimator:hover label.sk-toggleable__label-arrow:before {color: black;}#sk-container-id-1 div.sk-toggleable__content {max-height: 0;max-width: 0;overflow: hidden;text-align: left;background-color: #f0f8ff;}#sk-container-id-1 div.sk-toggleable__content pre {margin: 0.2em;color: black;border-radius: 0.25em;background-color: #f0f8ff;}#sk-container-id-1 input.sk-toggleable__control:checked~div.sk-toggleable__content {max-height: 200px;max-width: 100%;overflow: auto;}#sk-container-id-1 input.sk-toggleable__control:checked~label.sk-toggleable__label-arrow:before {content: \"▾\";}#sk-container-id-1 div.sk-estimator input.sk-toggleable__control:checked~label.sk-toggleable__label {background-color: #d4ebff;}#sk-container-id-1 div.sk-label input.sk-toggleable__control:checked~label.sk-toggleable__label {background-color: #d4ebff;}#sk-container-id-1 input.sk-hidden--visually {border: 0;clip: rect(1px 1px 1px 1px);clip: rect(1px, 1px, 1px, 1px);height: 1px;margin: -1px;overflow: hidden;padding: 0;position: absolute;width: 1px;}#sk-container-id-1 div.sk-estimator {font-family: monospace;background-color: #f0f8ff;border: 1px dotted black;border-radius: 0.25em;box-sizing: border-box;margin-bottom: 0.5em;}#sk-container-id-1 div.sk-estimator:hover {background-color: #d4ebff;}#sk-container-id-1 div.sk-parallel-item::after {content: \"\";width: 100%;border-bottom: 1px solid gray;flex-grow: 1;}#sk-container-id-1 div.sk-label:hover label.sk-toggleable__label {background-color: #d4ebff;}#sk-container-id-1 div.sk-serial::before {content: \"\";position: absolute;border-left: 1px solid gray;box-sizing: border-box;top: 0;bottom: 0;left: 50%;z-index: 0;}#sk-container-id-1 div.sk-serial {display: flex;flex-direction: column;align-items: center;background-color: white;padding-right: 0.2em;padding-left: 0.2em;position: relative;}#sk-container-id-1 div.sk-item {position: relative;z-index: 1;}#sk-container-id-1 div.sk-parallel {display: flex;align-items: stretch;justify-content: center;background-color: white;position: relative;}#sk-container-id-1 div.sk-item::before, #sk-container-id-1 div.sk-parallel-item::before {content: \"\";position: absolute;border-left: 1px solid gray;box-sizing: border-box;top: 0;bottom: 0;left: 50%;z-index: -1;}#sk-container-id-1 div.sk-parallel-item {display: flex;flex-direction: column;z-index: 1;position: relative;background-color: white;}#sk-container-id-1 div.sk-parallel-item:first-child::after {align-self: flex-end;width: 50%;}#sk-container-id-1 div.sk-parallel-item:last-child::after {align-self: flex-start;width: 50%;}#sk-container-id-1 div.sk-parallel-item:only-child::after {width: 0;}#sk-container-id-1 div.sk-dashed-wrapped {border: 1px dashed gray;margin: 0 0.4em 0.5em 0.4em;box-sizing: border-box;padding-bottom: 0.4em;background-color: white;}#sk-container-id-1 div.sk-label label {font-family: monospace;font-weight: bold;display: inline-block;line-height: 1.2em;}#sk-container-id-1 div.sk-label-container {text-align: center;}#sk-container-id-1 div.sk-container {/* jupyter's `normalize.less` sets `[hidden] { display: none; }` but bootstrap.min.css set `[hidden] { display: none !important; }` so we also need the `!important` here to be able to override the default hidden behavior on the sphinx rendered scikit-learn.org. See: https://github.com/scikit-learn/scikit-learn/issues/21755 */display: inline-block !important;position: relative;}#sk-container-id-1 div.sk-text-repr-fallback {display: none;}</style><div id=\"sk-container-id-1\" class=\"sk-top-container\"><div class=\"sk-text-repr-fallback\"><pre>LinearRegression()</pre><b>In a Jupyter environment, please rerun this cell to show the HTML representation or trust the notebook. <br />On GitHub, the HTML representation is unable to render, please try loading this page with nbviewer.org.</b></div><div class=\"sk-container\" hidden><div class=\"sk-item\"><div class=\"sk-estimator sk-toggleable\"><input class=\"sk-toggleable__control sk-hidden--visually\" id=\"sk-estimator-id-1\" type=\"checkbox\" checked><label for=\"sk-estimator-id-1\" class=\"sk-toggleable__label sk-toggleable__label-arrow\">LinearRegression</label><div class=\"sk-toggleable__content\"><pre>LinearRegression()</pre></div></div></div></div></div>"
      ],
      "text/plain": [
       "LinearRegression()"
      ]
     },
     "execution_count": 23,
     "metadata": {},
     "output_type": "execute_result"
    }
   ],
   "source": [
    "lr.fit(x_train,y_train)"
   ]
  },
  {
   "cell_type": "code",
   "execution_count": 24,
   "id": "40b225d6",
   "metadata": {
    "execution": {
     "iopub.execute_input": "2023-07-21T10:58:05.299609Z",
     "iopub.status.busy": "2023-07-21T10:58:05.299020Z",
     "iopub.status.idle": "2023-07-21T10:58:05.306454Z",
     "shell.execute_reply": "2023-07-21T10:58:05.304567Z"
    },
    "papermill": {
     "duration": 0.021685,
     "end_time": "2023-07-21T10:58:05.308996",
     "exception": false,
     "start_time": "2023-07-21T10:58:05.287311",
     "status": "completed"
    },
    "tags": []
   },
   "outputs": [
    {
     "data": {
      "text/plain": [
       "array([0.04405928, 0.1992875 , 0.00688245])"
      ]
     },
     "execution_count": 24,
     "metadata": {},
     "output_type": "execute_result"
    }
   ],
   "source": [
    "lr.coef_"
   ]
  },
  {
   "cell_type": "code",
   "execution_count": 25,
   "id": "8331aa2b",
   "metadata": {
    "execution": {
     "iopub.execute_input": "2023-07-21T10:58:05.331372Z",
     "iopub.status.busy": "2023-07-21T10:58:05.330939Z",
     "iopub.status.idle": "2023-07-21T10:58:05.338427Z",
     "shell.execute_reply": "2023-07-21T10:58:05.337215Z"
    },
    "papermill": {
     "duration": 0.021177,
     "end_time": "2023-07-21T10:58:05.340544",
     "exception": false,
     "start_time": "2023-07-21T10:58:05.319367",
     "status": "completed"
    },
    "tags": []
   },
   "outputs": [
    {
     "data": {
      "text/plain": [
       "2.7089490925159065"
      ]
     },
     "execution_count": 25,
     "metadata": {},
     "output_type": "execute_result"
    }
   ],
   "source": [
    "lr.intercept_"
   ]
  },
  {
   "cell_type": "code",
   "execution_count": 26,
   "id": "105046fa",
   "metadata": {
    "execution": {
     "iopub.execute_input": "2023-07-21T10:58:05.363806Z",
     "iopub.status.busy": "2023-07-21T10:58:05.363432Z",
     "iopub.status.idle": "2023-07-21T10:58:05.370006Z",
     "shell.execute_reply": "2023-07-21T10:58:05.369090Z"
    },
    "papermill": {
     "duration": 0.020069,
     "end_time": "2023-07-21T10:58:05.371766",
     "exception": false,
     "start_time": "2023-07-21T10:58:05.351697",
     "status": "completed"
    },
    "tags": []
   },
   "outputs": [],
   "source": [
    "y_pred=lr.predict(x_test)"
   ]
  },
  {
   "cell_type": "code",
   "execution_count": 27,
   "id": "bdea9823",
   "metadata": {
    "execution": {
     "iopub.execute_input": "2023-07-21T10:58:05.393518Z",
     "iopub.status.busy": "2023-07-21T10:58:05.393137Z",
     "iopub.status.idle": "2023-07-21T10:58:05.400239Z",
     "shell.execute_reply": "2023-07-21T10:58:05.399282Z"
    },
    "papermill": {
     "duration": 0.019981,
     "end_time": "2023-07-21T10:58:05.401966",
     "exception": false,
     "start_time": "2023-07-21T10:58:05.381985",
     "status": "completed"
    },
    "tags": []
   },
   "outputs": [
    {
     "data": {
      "text/plain": [
       "array([16.5653963 , 21.18822792, 21.55107058, 10.88923816, 22.20231988])"
      ]
     },
     "execution_count": 27,
     "metadata": {},
     "output_type": "execute_result"
    }
   ],
   "source": [
    "y_pred[:5]"
   ]
  },
  {
   "cell_type": "code",
   "execution_count": 28,
   "id": "b47dcbcf",
   "metadata": {
    "execution": {
     "iopub.execute_input": "2023-07-21T10:58:05.425267Z",
     "iopub.status.busy": "2023-07-21T10:58:05.424908Z",
     "iopub.status.idle": "2023-07-21T10:58:05.431702Z",
     "shell.execute_reply": "2023-07-21T10:58:05.430759Z"
    },
    "papermill": {
     "duration": 0.021316,
     "end_time": "2023-07-21T10:58:05.434184",
     "exception": false,
     "start_time": "2023-07-21T10:58:05.412868",
     "status": "completed"
    },
    "tags": []
   },
   "outputs": [
    {
     "data": {
      "text/plain": [
       "0.8609466508230368"
      ]
     },
     "execution_count": 28,
     "metadata": {},
     "output_type": "execute_result"
    }
   ],
   "source": [
    "r2_score(y_test,y_pred)"
   ]
  },
  {
   "cell_type": "code",
   "execution_count": 29,
   "id": "75420108",
   "metadata": {
    "execution": {
     "iopub.execute_input": "2023-07-21T10:58:05.457933Z",
     "iopub.status.busy": "2023-07-21T10:58:05.457352Z",
     "iopub.status.idle": "2023-07-21T10:58:05.463908Z",
     "shell.execute_reply": "2023-07-21T10:58:05.463098Z"
    },
    "papermill": {
     "duration": 0.020961,
     "end_time": "2023-07-21T10:58:05.465978",
     "exception": false,
     "start_time": "2023-07-21T10:58:05.445017",
     "status": "completed"
    },
    "tags": []
   },
   "outputs": [
    {
     "data": {
      "text/plain": [
       "3.79679723671522"
      ]
     },
     "execution_count": 29,
     "metadata": {},
     "output_type": "execute_result"
    }
   ],
   "source": [
    "mean_squared_error(y_test,y_pred)"
   ]
  },
  {
   "cell_type": "code",
   "execution_count": 30,
   "id": "be476b57",
   "metadata": {
    "execution": {
     "iopub.execute_input": "2023-07-21T10:58:05.491576Z",
     "iopub.status.busy": "2023-07-21T10:58:05.489906Z",
     "iopub.status.idle": "2023-07-21T10:58:05.499191Z",
     "shell.execute_reply": "2023-07-21T10:58:05.497595Z"
    },
    "papermill": {
     "duration": 0.024336,
     "end_time": "2023-07-21T10:58:05.501504",
     "exception": false,
     "start_time": "2023-07-21T10:58:05.477168",
     "status": "completed"
    },
    "tags": []
   },
   "outputs": [
    {
     "data": {
      "text/plain": [
       "0.16298720118158336"
      ]
     },
     "execution_count": 30,
     "metadata": {},
     "output_type": "execute_result"
    }
   ],
   "source": [
    "mean_absolute_percentage_error(y_test,y_pred)"
   ]
  },
  {
   "cell_type": "code",
   "execution_count": 31,
   "id": "d0234c13",
   "metadata": {
    "execution": {
     "iopub.execute_input": "2023-07-21T10:58:05.524970Z",
     "iopub.status.busy": "2023-07-21T10:58:05.524217Z",
     "iopub.status.idle": "2023-07-21T10:58:05.530982Z",
     "shell.execute_reply": "2023-07-21T10:58:05.530263Z"
    },
    "papermill": {
     "duration": 0.020627,
     "end_time": "2023-07-21T10:58:05.533079",
     "exception": false,
     "start_time": "2023-07-21T10:58:05.512452",
     "status": "completed"
    },
    "tags": []
   },
   "outputs": [],
   "source": [
    "df_test_pred=pd.DataFrame({'Actual Values':y_test,\"Predicted values\":y_pred})"
   ]
  },
  {
   "cell_type": "code",
   "execution_count": 32,
   "id": "25696b76",
   "metadata": {
    "execution": {
     "iopub.execute_input": "2023-07-21T10:58:05.557206Z",
     "iopub.status.busy": "2023-07-21T10:58:05.555853Z",
     "iopub.status.idle": "2023-07-21T10:58:05.573786Z",
     "shell.execute_reply": "2023-07-21T10:58:05.572486Z"
    },
    "papermill": {
     "duration": 0.032746,
     "end_time": "2023-07-21T10:58:05.576457",
     "exception": false,
     "start_time": "2023-07-21T10:58:05.543711",
     "status": "completed"
    },
    "tags": []
   },
   "outputs": [
    {
     "data": {
      "text/html": [
       "<div>\n",
       "<style scoped>\n",
       "    .dataframe tbody tr th:only-of-type {\n",
       "        vertical-align: middle;\n",
       "    }\n",
       "\n",
       "    .dataframe tbody tr th {\n",
       "        vertical-align: top;\n",
       "    }\n",
       "\n",
       "    .dataframe thead th {\n",
       "        text-align: right;\n",
       "    }\n",
       "</style>\n",
       "<table border=\"1\" class=\"dataframe\">\n",
       "  <thead>\n",
       "    <tr style=\"text-align: right;\">\n",
       "      <th></th>\n",
       "      <th>Actual Values</th>\n",
       "      <th>Predicted values</th>\n",
       "    </tr>\n",
       "  </thead>\n",
       "  <tbody>\n",
       "    <tr>\n",
       "      <th>95</th>\n",
       "      <td>16.9</td>\n",
       "      <td>16.565396</td>\n",
       "    </tr>\n",
       "    <tr>\n",
       "      <th>15</th>\n",
       "      <td>22.4</td>\n",
       "      <td>21.188228</td>\n",
       "    </tr>\n",
       "    <tr>\n",
       "      <th>30</th>\n",
       "      <td>21.4</td>\n",
       "      <td>21.551071</td>\n",
       "    </tr>\n",
       "    <tr>\n",
       "      <th>158</th>\n",
       "      <td>7.3</td>\n",
       "      <td>10.889238</td>\n",
       "    </tr>\n",
       "    <tr>\n",
       "      <th>128</th>\n",
       "      <td>24.7</td>\n",
       "      <td>22.202320</td>\n",
       "    </tr>\n",
       "    <tr>\n",
       "      <th>115</th>\n",
       "      <td>12.6</td>\n",
       "      <td>13.355569</td>\n",
       "    </tr>\n",
       "    <tr>\n",
       "      <th>69</th>\n",
       "      <td>22.3</td>\n",
       "      <td>21.196925</td>\n",
       "    </tr>\n",
       "    <tr>\n",
       "      <th>170</th>\n",
       "      <td>8.4</td>\n",
       "      <td>7.350285</td>\n",
       "    </tr>\n",
       "    <tr>\n",
       "      <th>174</th>\n",
       "      <td>11.5</td>\n",
       "      <td>13.275471</td>\n",
       "    </tr>\n",
       "    <tr>\n",
       "      <th>45</th>\n",
       "      <td>14.9</td>\n",
       "      <td>15.124495</td>\n",
       "    </tr>\n",
       "    <tr>\n",
       "      <th>66</th>\n",
       "      <td>9.5</td>\n",
       "      <td>9.014430</td>\n",
       "    </tr>\n",
       "    <tr>\n",
       "      <th>182</th>\n",
       "      <td>8.7</td>\n",
       "      <td>6.525428</td>\n",
       "    </tr>\n",
       "    <tr>\n",
       "      <th>165</th>\n",
       "      <td>11.9</td>\n",
       "      <td>14.302060</td>\n",
       "    </tr>\n",
       "    <tr>\n",
       "      <th>78</th>\n",
       "      <td>5.3</td>\n",
       "      <td>8.970260</td>\n",
       "    </tr>\n",
       "    <tr>\n",
       "      <th>186</th>\n",
       "      <td>10.3</td>\n",
       "      <td>9.456796</td>\n",
       "    </tr>\n",
       "    <tr>\n",
       "      <th>177</th>\n",
       "      <td>11.7</td>\n",
       "      <td>12.004544</td>\n",
       "    </tr>\n",
       "    <tr>\n",
       "      <th>56</th>\n",
       "      <td>5.5</td>\n",
       "      <td>8.915494</td>\n",
       "    </tr>\n",
       "    <tr>\n",
       "      <th>152</th>\n",
       "      <td>16.6</td>\n",
       "      <td>16.156193</td>\n",
       "    </tr>\n",
       "    <tr>\n",
       "      <th>82</th>\n",
       "      <td>11.3</td>\n",
       "      <td>10.295829</td>\n",
       "    </tr>\n",
       "    <tr>\n",
       "      <th>68</th>\n",
       "      <td>18.9</td>\n",
       "      <td>18.724736</td>\n",
       "    </tr>\n",
       "    <tr>\n",
       "      <th>124</th>\n",
       "      <td>19.7</td>\n",
       "      <td>19.768218</td>\n",
       "    </tr>\n",
       "    <tr>\n",
       "      <th>16</th>\n",
       "      <td>12.5</td>\n",
       "      <td>13.774690</td>\n",
       "    </tr>\n",
       "    <tr>\n",
       "      <th>148</th>\n",
       "      <td>10.9</td>\n",
       "      <td>12.496389</td>\n",
       "    </tr>\n",
       "    <tr>\n",
       "      <th>93</th>\n",
       "      <td>22.2</td>\n",
       "      <td>21.535018</td>\n",
       "    </tr>\n",
       "    <tr>\n",
       "      <th>65</th>\n",
       "      <td>9.3</td>\n",
       "      <td>7.608607</td>\n",
       "    </tr>\n",
       "    <tr>\n",
       "      <th>60</th>\n",
       "      <td>8.1</td>\n",
       "      <td>5.611980</td>\n",
       "    </tr>\n",
       "    <tr>\n",
       "      <th>84</th>\n",
       "      <td>21.7</td>\n",
       "      <td>20.917595</td>\n",
       "    </tr>\n",
       "    <tr>\n",
       "      <th>67</th>\n",
       "      <td>13.4</td>\n",
       "      <td>11.806277</td>\n",
       "    </tr>\n",
       "    <tr>\n",
       "      <th>125</th>\n",
       "      <td>10.6</td>\n",
       "      <td>9.080766</td>\n",
       "    </tr>\n",
       "    <tr>\n",
       "      <th>132</th>\n",
       "      <td>5.7</td>\n",
       "      <td>8.514120</td>\n",
       "    </tr>\n",
       "    <tr>\n",
       "      <th>9</th>\n",
       "      <td>10.6</td>\n",
       "      <td>12.176049</td>\n",
       "    </tr>\n",
       "    <tr>\n",
       "      <th>18</th>\n",
       "      <td>11.3</td>\n",
       "      <td>9.969194</td>\n",
       "    </tr>\n",
       "    <tr>\n",
       "      <th>55</th>\n",
       "      <td>23.7</td>\n",
       "      <td>21.730090</td>\n",
       "    </tr>\n",
       "    <tr>\n",
       "      <th>75</th>\n",
       "      <td>8.7</td>\n",
       "      <td>12.777706</td>\n",
       "    </tr>\n",
       "    <tr>\n",
       "      <th>150</th>\n",
       "      <td>16.1</td>\n",
       "      <td>18.101136</td>\n",
       "    </tr>\n",
       "    <tr>\n",
       "      <th>104</th>\n",
       "      <td>20.7</td>\n",
       "      <td>20.075908</td>\n",
       "    </tr>\n",
       "    <tr>\n",
       "      <th>135</th>\n",
       "      <td>11.6</td>\n",
       "      <td>14.262026</td>\n",
       "    </tr>\n",
       "    <tr>\n",
       "      <th>137</th>\n",
       "      <td>20.8</td>\n",
       "      <td>20.938265</td>\n",
       "    </tr>\n",
       "    <tr>\n",
       "      <th>164</th>\n",
       "      <td>11.9</td>\n",
       "      <td>10.839388</td>\n",
       "    </tr>\n",
       "    <tr>\n",
       "      <th>76</th>\n",
       "      <td>6.9</td>\n",
       "      <td>4.381906</td>\n",
       "    </tr>\n",
       "    <tr>\n",
       "      <th>79</th>\n",
       "      <td>11.0</td>\n",
       "      <td>9.513324</td>\n",
       "    </tr>\n",
       "    <tr>\n",
       "      <th>197</th>\n",
       "      <td>12.8</td>\n",
       "      <td>12.404863</td>\n",
       "    </tr>\n",
       "    <tr>\n",
       "      <th>38</th>\n",
       "      <td>10.1</td>\n",
       "      <td>10.170454</td>\n",
       "    </tr>\n",
       "    <tr>\n",
       "      <th>24</th>\n",
       "      <td>9.7</td>\n",
       "      <td>8.090814</td>\n",
       "    </tr>\n",
       "    <tr>\n",
       "      <th>122</th>\n",
       "      <td>11.6</td>\n",
       "      <td>13.163884</td>\n",
       "    </tr>\n",
       "    <tr>\n",
       "      <th>195</th>\n",
       "      <td>7.6</td>\n",
       "      <td>5.224355</td>\n",
       "    </tr>\n",
       "    <tr>\n",
       "      <th>29</th>\n",
       "      <td>10.5</td>\n",
       "      <td>9.288938</td>\n",
       "    </tr>\n",
       "    <tr>\n",
       "      <th>19</th>\n",
       "      <td>14.6</td>\n",
       "      <td>14.093307</td>\n",
       "    </tr>\n",
       "    <tr>\n",
       "      <th>143</th>\n",
       "      <td>10.4</td>\n",
       "      <td>8.690245</td>\n",
       "    </tr>\n",
       "    <tr>\n",
       "      <th>86</th>\n",
       "      <td>12.0</td>\n",
       "      <td>11.661198</td>\n",
       "    </tr>\n",
       "    <tr>\n",
       "      <th>114</th>\n",
       "      <td>14.6</td>\n",
       "      <td>15.718484</td>\n",
       "    </tr>\n",
       "    <tr>\n",
       "      <th>173</th>\n",
       "      <td>11.7</td>\n",
       "      <td>11.631569</td>\n",
       "    </tr>\n",
       "    <tr>\n",
       "      <th>5</th>\n",
       "      <td>7.2</td>\n",
       "      <td>13.353607</td>\n",
       "    </tr>\n",
       "    <tr>\n",
       "      <th>126</th>\n",
       "      <td>6.6</td>\n",
       "      <td>11.153147</td>\n",
       "    </tr>\n",
       "    <tr>\n",
       "      <th>117</th>\n",
       "      <td>9.4</td>\n",
       "      <td>6.336368</td>\n",
       "    </tr>\n",
       "    <tr>\n",
       "      <th>73</th>\n",
       "      <td>11.0</td>\n",
       "      <td>9.761580</td>\n",
       "    </tr>\n",
       "    <tr>\n",
       "      <th>140</th>\n",
       "      <td>10.9</td>\n",
       "      <td>9.419571</td>\n",
       "    </tr>\n",
       "    <tr>\n",
       "      <th>98</th>\n",
       "      <td>25.4</td>\n",
       "      <td>24.255165</td>\n",
       "    </tr>\n",
       "    <tr>\n",
       "      <th>172</th>\n",
       "      <td>7.6</td>\n",
       "      <td>7.695191</td>\n",
       "    </tr>\n",
       "    <tr>\n",
       "      <th>96</th>\n",
       "      <td>11.7</td>\n",
       "      <td>12.153176</td>\n",
       "    </tr>\n",
       "  </tbody>\n",
       "</table>\n",
       "</div>"
      ],
      "text/plain": [
       "     Actual Values  Predicted values\n",
       "95            16.9         16.565396\n",
       "15            22.4         21.188228\n",
       "30            21.4         21.551071\n",
       "158            7.3         10.889238\n",
       "128           24.7         22.202320\n",
       "115           12.6         13.355569\n",
       "69            22.3         21.196925\n",
       "170            8.4          7.350285\n",
       "174           11.5         13.275471\n",
       "45            14.9         15.124495\n",
       "66             9.5          9.014430\n",
       "182            8.7          6.525428\n",
       "165           11.9         14.302060\n",
       "78             5.3          8.970260\n",
       "186           10.3          9.456796\n",
       "177           11.7         12.004544\n",
       "56             5.5          8.915494\n",
       "152           16.6         16.156193\n",
       "82            11.3         10.295829\n",
       "68            18.9         18.724736\n",
       "124           19.7         19.768218\n",
       "16            12.5         13.774690\n",
       "148           10.9         12.496389\n",
       "93            22.2         21.535018\n",
       "65             9.3          7.608607\n",
       "60             8.1          5.611980\n",
       "84            21.7         20.917595\n",
       "67            13.4         11.806277\n",
       "125           10.6          9.080766\n",
       "132            5.7          8.514120\n",
       "9             10.6         12.176049\n",
       "18            11.3          9.969194\n",
       "55            23.7         21.730090\n",
       "75             8.7         12.777706\n",
       "150           16.1         18.101136\n",
       "104           20.7         20.075908\n",
       "135           11.6         14.262026\n",
       "137           20.8         20.938265\n",
       "164           11.9         10.839388\n",
       "76             6.9          4.381906\n",
       "79            11.0          9.513324\n",
       "197           12.8         12.404863\n",
       "38            10.1         10.170454\n",
       "24             9.7          8.090814\n",
       "122           11.6         13.163884\n",
       "195            7.6          5.224355\n",
       "29            10.5          9.288938\n",
       "19            14.6         14.093307\n",
       "143           10.4          8.690245\n",
       "86            12.0         11.661198\n",
       "114           14.6         15.718484\n",
       "173           11.7         11.631569\n",
       "5              7.2         13.353607\n",
       "126            6.6         11.153147\n",
       "117            9.4          6.336368\n",
       "73            11.0          9.761580\n",
       "140           10.9          9.419571\n",
       "98            25.4         24.255165\n",
       "172            7.6          7.695191\n",
       "96            11.7         12.153176"
      ]
     },
     "execution_count": 32,
     "metadata": {},
     "output_type": "execute_result"
    }
   ],
   "source": [
    "df_test_pred"
   ]
  },
  {
   "cell_type": "markdown",
   "id": "d2d9e290",
   "metadata": {
    "papermill": {
     "duration": 0.011364,
     "end_time": "2023-07-21T10:58:05.599298",
     "exception": false,
     "start_time": "2023-07-21T10:58:05.587934",
     "status": "completed"
    },
    "tags": []
   },
   "source": [
    "### Predictive Analytics"
   ]
  },
  {
   "cell_type": "code",
   "execution_count": 33,
   "id": "99ac694c",
   "metadata": {
    "execution": {
     "iopub.execute_input": "2023-07-21T10:58:05.623522Z",
     "iopub.status.busy": "2023-07-21T10:58:05.623191Z",
     "iopub.status.idle": "2023-07-21T10:58:05.629978Z",
     "shell.execute_reply": "2023-07-21T10:58:05.628969Z"
    },
    "papermill": {
     "duration": 0.021209,
     "end_time": "2023-07-21T10:58:05.631854",
     "exception": false,
     "start_time": "2023-07-21T10:58:05.610645",
     "status": "completed"
    },
    "tags": []
   },
   "outputs": [
    {
     "data": {
      "text/plain": [
       "array([100,  50,  50])"
      ]
     },
     "execution_count": 33,
     "metadata": {},
     "output_type": "execute_result"
    }
   ],
   "source": [
    "array=np.array([100,50,50])\n",
    "array"
   ]
  },
  {
   "cell_type": "code",
   "execution_count": 34,
   "id": "f6179b8f",
   "metadata": {
    "execution": {
     "iopub.execute_input": "2023-07-21T10:58:05.655153Z",
     "iopub.status.busy": "2023-07-21T10:58:05.654792Z",
     "iopub.status.idle": "2023-07-21T10:58:05.662257Z",
     "shell.execute_reply": "2023-07-21T10:58:05.660954Z"
    },
    "papermill": {
     "duration": 0.021414,
     "end_time": "2023-07-21T10:58:05.664084",
     "exception": false,
     "start_time": "2023-07-21T10:58:05.642670",
     "status": "completed"
    },
    "tags": []
   },
   "outputs": [
    {
     "data": {
      "text/plain": [
       "array([[100,  50,  50]])"
      ]
     },
     "execution_count": 34,
     "metadata": {},
     "output_type": "execute_result"
    }
   ],
   "source": [
    "new_array=array.reshape(1,-1)\n",
    "new_array"
   ]
  },
  {
   "cell_type": "code",
   "execution_count": 35,
   "id": "f12651c3",
   "metadata": {
    "execution": {
     "iopub.execute_input": "2023-07-21T10:58:05.687673Z",
     "iopub.status.busy": "2023-07-21T10:58:05.687264Z",
     "iopub.status.idle": "2023-07-21T10:58:05.695810Z",
     "shell.execute_reply": "2023-07-21T10:58:05.694642Z"
    },
    "papermill": {
     "duration": 0.023308,
     "end_time": "2023-07-21T10:58:05.698482",
     "exception": false,
     "start_time": "2023-07-21T10:58:05.675174",
     "status": "completed"
    },
    "tags": []
   },
   "outputs": [
    {
     "name": "stderr",
     "output_type": "stream",
     "text": [
      "/opt/conda/lib/python3.10/site-packages/sklearn/base.py:439: UserWarning:\n",
      "\n",
      "X does not have valid feature names, but LinearRegression was fitted with feature names\n",
      "\n"
     ]
    },
    {
     "data": {
      "text/plain": [
       "array([17.42337464])"
      ]
     },
     "execution_count": 35,
     "metadata": {},
     "output_type": "execute_result"
    }
   ],
   "source": [
    "y_pred_array=lr.predict(new_array)\n",
    "y_pred_array"
   ]
  },
  {
   "cell_type": "markdown",
   "id": "b0f1636c",
   "metadata": {
    "papermill": {
     "duration": 0.011142,
     "end_time": "2023-07-21T10:58:05.721455",
     "exception": false,
     "start_time": "2023-07-21T10:58:05.710313",
     "status": "completed"
    },
    "tags": []
   },
   "source": [
    "### Thanks And Regards\n",
    "## Anubhav Kumar Gupta"
   ]
  }
 ],
 "metadata": {
  "kernelspec": {
   "display_name": "Python 3",
   "language": "python",
   "name": "python3"
  },
  "language_info": {
   "codemirror_mode": {
    "name": "ipython",
    "version": 3
   },
   "file_extension": ".py",
   "mimetype": "text/x-python",
   "name": "python",
   "nbconvert_exporter": "python",
   "pygments_lexer": "ipython3",
   "version": "3.10.12"
  },
  "papermill": {
   "default_parameters": {},
   "duration": 14.780884,
   "end_time": "2023-07-21T10:58:06.855824",
   "environment_variables": {},
   "exception": null,
   "input_path": "__notebook__.ipynb",
   "output_path": "__notebook__.ipynb",
   "parameters": {},
   "start_time": "2023-07-21T10:57:52.074940",
   "version": "2.4.0"
  }
 },
 "nbformat": 4,
 "nbformat_minor": 5
}
